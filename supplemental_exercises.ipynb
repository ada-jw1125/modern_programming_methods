{
 "cells": [
  {
   "cell_type": "markdown",
   "metadata": {
    "slideshow": {
     "slide_type": "slide"
    }
   },
   "source": [
    "# Scientific python: NumPy, SciPy and Matplotlib"
   ]
  },
  {
   "cell_type": "markdown",
   "metadata": {},
   "source": [
    "## Supplemental Exercises to Lecture 2\n",
    "\n",
    "  * Learn what NumPy arrays are\n",
    "  * Learn basic array manipulations\n",
    "  * Learn what vectorial code is\n",
    "  * Quick overview of SciPy\n",
    "  * Learn how to do a simple 2D plot and decorate it\n",
    "  * Learn how to combine plots into a single figure"
   ]
  },
  {
   "cell_type": "markdown",
   "metadata": {},
   "source": [
    "## Further reading\n",
    "* http://scipy-lectures.org\n",
    "* https://www.nature.com/articles/s41586-020-2649-2\n",
    "* https://numpy.org/doc/"
   ]
  },
  {
   "cell_type": "markdown",
   "metadata": {},
   "source": [
    "# Supplemental exercises\n",
    "The following is supplimental if you would like more practice on what you have covered:\n"
   ]
  },
  {
   "cell_type": "code",
   "execution_count": 1,
   "metadata": {},
   "outputs": [],
   "source": [
    "# Import pybryt which will be used to check your solutions against reference solutions\n",
    "#%pip install pybryt\n",
    "import pybryt\n",
    "from reflecture import pybryt_reference\n",
    "# Convention: Import numpy and alias/rename it as np\n",
    "import numpy as np"
   ]
  },
  {
   "cell_type": "markdown",
   "metadata": {},
   "source": [
    "### Exercise 2.20\n",
    "We are going to start with an array using the arange method. \n",
    "\n",
    "Use arange to create an array with 20 elements. It should be named `arr`."
   ]
  },
  {
   "cell_type": "code",
   "execution_count": 2,
   "metadata": {},
   "outputs": [
    {
     "name": "stdout",
     "output_type": "stream",
     "text": [
      "[ 0  1  2  3  4  5  6  7  8  9 10 11 12 13 14 15 16 17 18 19]\n"
     ]
    }
   ],
   "source": [
    "## Solution...\n",
    "arr = np.arange(20)\n",
    "print(arr)"
   ]
  },
  {
   "cell_type": "code",
   "execution_count": 3,
   "metadata": {},
   "outputs": [
    {
     "name": "stdout",
     "output_type": "stream",
     "text": [
      "[ 0  1  2  3  4  5  6  7  8  9 10 11 12 13 14 15 16 17 18 19]\n",
      "REFERENCE: exercise-2_201\n",
      "SATISFIED: True\n",
      "MESSAGES:\n",
      "  - SUCCESS: Array `a` checked: OK\n"
     ]
    }
   ],
   "source": [
    "## do not change any of the following code. It is used to check your work and provide feedback.\n",
    "with pybryt.check(pybryt_reference(2, 201)):\n",
    "    print(arr)"
   ]
  },
  {
   "cell_type": "markdown",
   "metadata": {},
   "source": [
    "Create a new array called `arr54` formed from the array `arr` we have just created. Using reshape, turn it into a 4 by 5 array."
   ]
  },
  {
   "cell_type": "code",
   "execution_count": 4,
   "metadata": {},
   "outputs": [
    {
     "name": "stdout",
     "output_type": "stream",
     "text": [
      "[[ 0  1  2  3  4]\n",
      " [ 5  6  7  8  9]\n",
      " [10 11 12 13 14]\n",
      " [15 16 17 18 19]]\n"
     ]
    }
   ],
   "source": [
    "## Solution...\n",
    "arr54 = arr.reshape(4,5)\n",
    "print(arr54)"
   ]
  },
  {
   "cell_type": "code",
   "execution_count": 5,
   "metadata": {},
   "outputs": [
    {
     "name": "stdout",
     "output_type": "stream",
     "text": [
      "[[ 0  1  2  3  4]\n",
      " [ 5  6  7  8  9]\n",
      " [10 11 12 13 14]\n",
      " [15 16 17 18 19]]\n",
      "REFERENCE: exercise-2_202\n",
      "SATISFIED: True\n",
      "MESSAGES:\n",
      "  - SUCCESS: Array `arr54` checked: OK\n"
     ]
    }
   ],
   "source": [
    "# do not change any of the following code. It is used to check your work and provide feedback.\n",
    "with pybryt.check(pybryt_reference(2, 202)):\n",
    "    print(arr54)"
   ]
  },
  {
   "cell_type": "markdown",
   "metadata": {},
   "source": [
    "Now change all the elements in the 3rd row of `arr54` to zero."
   ]
  },
  {
   "cell_type": "code",
   "execution_count": 6,
   "metadata": {},
   "outputs": [
    {
     "name": "stdout",
     "output_type": "stream",
     "text": [
      "[[ 0  1  2  3  4]\n",
      " [ 5  6  7  8  9]\n",
      " [ 0  0  0  0  0]\n",
      " [15 16 17 18 19]]\n"
     ]
    }
   ],
   "source": [
    "## Solution...\n",
    "arr54[2, :] = 0\n",
    "print(arr54)"
   ]
  },
  {
   "cell_type": "code",
   "execution_count": 7,
   "metadata": {},
   "outputs": [
    {
     "name": "stdout",
     "output_type": "stream",
     "text": [
      "[[ 0  1  2  3  4]\n",
      " [ 5  6  7  8  9]\n",
      " [ 0  0  0  0  0]\n",
      " [15 16 17 18 19]]\n",
      "REFERENCE: exercise-2_203\n",
      "SATISFIED: True\n",
      "MESSAGES:\n",
      "  - SUCCESS: Array `arr54` checked: OK\n"
     ]
    }
   ],
   "source": [
    "# do not change any of the following code. It is used to check your work and provide feedback.\n",
    "with pybryt.check(pybryt_reference(2, 203)):\n",
    "    print(arr54)"
   ]
  },
  {
   "cell_type": "markdown",
   "metadata": {},
   "source": [
    "Next let us reverse the order of the columns, as save the result in a new array called `arr54_flipped`. You can use `np.flip` or array slicing to achieve this."
   ]
  },
  {
   "cell_type": "code",
   "execution_count": 8,
   "metadata": {},
   "outputs": [
    {
     "name": "stdout",
     "output_type": "stream",
     "text": [
      "[[ 4  3  2  1  0]\n",
      " [ 9  8  7  6  5]\n",
      " [ 0  0  0  0  0]\n",
      " [19 18 17 16 15]]\n"
     ]
    }
   ],
   "source": [
    "## Solution...\n",
    "arr54_flipped = arr54[::, ::-1]\n",
    "print(arr54_flipped)"
   ]
  },
  {
   "cell_type": "code",
   "execution_count": 9,
   "metadata": {},
   "outputs": [
    {
     "name": "stdout",
     "output_type": "stream",
     "text": [
      "[[ 4  3  2  1  0]\n",
      " [ 9  8  7  6  5]\n",
      " [ 0  0  0  0  0]\n",
      " [19 18 17 16 15]]\n",
      "REFERENCE: exercise-2_204\n",
      "SATISFIED: True\n",
      "MESSAGES:\n",
      "  - SUCCESS: Array `arr54` checked: OK\n"
     ]
    }
   ],
   "source": [
    "# do not change any of the following code. It is used to check your work and provide feedback.\n",
    "with pybryt.check(pybryt_reference(2, 204)):\n",
    "    print(arr54_flipped)"
   ]
  },
  {
   "cell_type": "code",
   "execution_count": null,
   "metadata": {},
   "outputs": [],
   "source": []
  }
 ],
 "metadata": {
  "anaconda-cloud": {},
  "celltoolbar": "Raw Cell Format",
  "kernelspec": {
   "display_name": "Python 3 (ipykernel)",
   "language": "python",
   "name": "python3"
  },
  "language_info": {
   "codemirror_mode": {
    "name": "ipython",
    "version": 3
   },
   "file_extension": ".py",
   "mimetype": "text/x-python",
   "name": "python",
   "nbconvert_exporter": "python",
   "pygments_lexer": "ipython3",
   "version": "3.13.5"
  }
 },
 "nbformat": 4,
 "nbformat_minor": 4
}

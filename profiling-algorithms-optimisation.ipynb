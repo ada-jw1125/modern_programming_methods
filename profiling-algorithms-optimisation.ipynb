{
 "cells": [
  {
   "cell_type": "markdown",
   "metadata": {
    "editable": true,
    "slideshow": {
     "slide_type": "slide"
    },
    "tags": []
   },
   "source": [
    "# Profiling 🕵️‍♂️, algorithms 🧠, and optimisation 🚀\n",
    "\n",
    "## (How to speed up my Python code?)"
   ]
  },
  {
   "cell_type": "markdown",
   "metadata": {
    "slideshow": {
     "slide_type": "slide"
    }
   },
   "source": [
    "### [~~Dr~~ **Marijan** ~~Beg~~](https://profiles.imperial.ac.uk/m.beg) (MAH - ree - yahn)\n",
    "\n",
    "- (Computational) Physicist\n",
    "  - BSc/MSc in Nanophysics / Nanoelectronics / Nanotechnology 🤓\n",
    "  - PhD in Computational Physics (nanomagnetism) 🧲\n",
    "  - nano = very small (my brain thinks in picometres and picoseconds...)\n",
    "\n",
    "- **Teaching**:\n",
    "  - You already \"saw\" me a bit in the **Introduction to Python** pre-sessional module.\n",
    "  - You will see me several times in MPM/NPP, ACDS (group projects), BDA. 🫣\n",
    "  - You will hear from me a lot in **IRP** (summer project). 🤯\n",
    "    - First IRP-related information in several weeks (https://ese-msc.github.io/irp).\n",
    "\n",
    "- **Research**:\n",
    "  - Computational study of nanoscale magnetic phenomena, topological matter, spintronics.\n",
    "      - I design and develop simulation code (Research Software Engineering).\n",
    "      - I then use it to explore topological quasi-particles and singularities (skyrmions, Bloch Points, hopfions...).\n",
    "      - I hope to help discover a way to rebuild today's electronics from scratch.\n",
    "        - **spintronics**: Employing electron's spin (in addition to its charge) in electronic devices\n",
    "  - GenerativeAI in higher education: personalised learning, assessment, feedback, ethics, policy...\n",
    "  - If you are interested in any of those, there will be some projects available in IRP."
   ]
  },
  {
   "cell_type": "markdown",
   "metadata": {
    "slideshow": {
     "slide_type": "slide"
    }
   },
   "source": [
    "### How to find me?\n",
    "\n",
    "- **Office**: Royal School of Mines (RSM) 4.95 (4th floor)\n",
    "- **Email**: m.beg@imperial.ac.uk\n",
    "- **GitHub**: [@marijanbeg](https://github.com/marijanbeg)\n",
    "- **Marijan's anonymous feedback form**: https://forms.office.com/e/BiekMgPTMm\n",
    "  - the form is the same all year, and it is available anytime... I'm keeping an eye on it.\n",
    "\n",
    "- I’m also a **Mental Health First Aider**\n",
    "  - If you feel overwhelmed and need someone to talk to, I'm here."
   ]
  },
  {
   "cell_type": "markdown",
   "metadata": {
    "slideshow": {
     "slide_type": "slide"
    }
   },
   "source": [
    "### Don't Hesitate to Interrupt!\n",
    "\n",
    "- [**Cognitive Load Theory (CLT)**](https://www.tandfonline.com/doi/full/10.3109/0142159X.2014.889290)\n",
    "  - On average, our brains can hold **only 7 \"chunks\" of information at once** in working memory.\n",
    "  - A chunk can be a fact, idea, or task - big or small.\n",
    "  - Once we reach this limit, we overlook or forget things.\n",
    "- If I juggle $n$ tasks at once, I will forget the $(n+1)$-th one...\n",
    "- **If I say some nonsense, you spot a mistake, or have a question, just speak up: \"Hey Marijan, ...?\"**"
   ]
  },
  {
   "cell_type": "markdown",
   "metadata": {
    "slideshow": {
     "slide_type": "slide"
    }
   },
   "source": [
    "### Intended Learning Outcomes (ILOs)\n",
    "\n",
    "By the end of this lecture you should be able to:\n",
    "\n",
    "1. Identify bits of your code that are (too) slow by **profiling** 🕵️‍♂️.\n",
    "2. Find the *big-O* of a particular **algorithm** 🧠 and understand its impact on the performance.\n",
    "3. Use several **optimisation** 🚀 techniques to speed up your code.\n",
    "4. Use different techniques to reduce the **memory footprint** 📦 of your code."
   ]
  },
  {
   "cell_type": "markdown",
   "metadata": {
    "slideshow": {
     "slide_type": "slide"
    }
   },
   "source": [
    "### What are Intended Learning Outcomes (ILOs)???\n",
    "\n",
    "- An ILO is what you should be able to do by the end of a lecture or a module.\n",
    "- Think about ILOs as your **learning goals**.\n",
    "- At MSc level, we often throw at you much more information than you have time to assimilate (digest).\n",
    "- ILOs help both you and me to stay focused on what's most important.\n",
    "- If at the end of the lecture, you feel like you can do, even partially, most ILOs, we did a good job! 🎉🕺"
   ]
  },
  {
   "cell_type": "markdown",
   "metadata": {
    "slideshow": {
     "slide_type": "slide"
    }
   },
   "source": [
    "## Motivation: Blackbody spectral radiance (Planck’s law)\n",
    "\n",
    "We need to compute the **spectral radiance** of a blackbody using **Planck’s law**:\n",
    "\n",
    "$$\n",
    "B(\\lambda, T) = \\frac{2 h c^2}{\\lambda^5} \\cdot \\frac{1}{\\exp\\!\\left(\\frac{h c}{\\lambda k_B T}\\right) - 1}\n",
    "$$\n",
    "\n",
    "where:\n",
    "\n",
    "- $ \\lambda $ is the wavelength (m)  \n",
    "- $ T $ is the temperature (K)  \n",
    "- $ h $ is Planck’s constant (Js)  \n",
    "- $ c $ is the speed of light (m/s)  \n",
    "- $ k_B $ is Boltzmann’s constant (J/K)  \n",
    "\n",
    "We’ll compute this expression for **half a million random wavelength-temperature pairs**.\n"
   ]
  },
  {
   "cell_type": "code",
   "execution_count": 60,
   "metadata": {
    "slideshow": {
     "slide_type": "slide"
    }
   },
   "outputs": [],
   "source": [
    "import pandas as pd\n",
    "import numpy as np\n",
    "import math\n",
    "import functools\n",
    "\n",
    "h = 6.62607015e-34  # Planck constant [J·s]\n",
    "c = 2.99792458e8  # speed of light [m/s]\n",
    "kB = 1.380649e-23  # Boltzmann constant [J/K]\n",
    "\n",
    "# Synthetic dataset\n",
    "N = 500_000\n",
    "data = pd.DataFrame(\n",
    "    {\n",
    "        \"wavelength\": np.random.uniform(380, 780, N) * 1e-9,\n",
    "        \"temperature\": np.random.randint(2500, 8000, N),\n",
    "    }\n",
    ")"
   ]
  },
  {
   "cell_type": "markdown",
   "metadata": {
    "slideshow": {
     "slide_type": "slide"
    }
   },
   "source": [
    "### Implementation 1: Naive"
   ]
  },
  {
   "cell_type": "code",
   "execution_count": 61,
   "metadata": {},
   "outputs": [],
   "source": [
    "def planck_slow(data):\n",
    "    B = []\n",
    "    for _, row in data.iterrows():\n",
    "        lam = row.wavelength\n",
    "        T = row.temperature\n",
    "        A = 2 * h * c**2\n",
    "        denom_arg = (h * c) / (lam * kB * T)\n",
    "        val = (A / (lam**5)) * (1.0 / (math.exp(denom_arg) - 1.0))\n",
    "        B.append(val)\n",
    "\n",
    "    return B"
   ]
  },
  {
   "cell_type": "markdown",
   "metadata": {
    "slideshow": {
     "slide_type": "slide"
    }
   },
   "source": [
    "### Implementation 2: Bit more clever 🤓😎"
   ]
  },
  {
   "cell_type": "code",
   "execution_count": 4,
   "metadata": {},
   "outputs": [],
   "source": [
    "# Downcast to smaller, faster types\n",
    "data_opt = data.astype({\"wavelength\": \"float32\", \"temperature\": \"uint16\"})\n",
    "\n",
    "\n",
    "def planck_fast(data):\n",
    "    lam = data[\"wavelength\"].to_numpy()\n",
    "    T = data[\"temperature\"].to_numpy()\n",
    "\n",
    "    A = 2.0 * h * c**2\n",
    "    lam5 = lam**5\n",
    "    denom_arg = (h * c) / (lam * kB * T)\n",
    "\n",
    "    inv_expm1 = 1.0 / (np.expm1(denom_arg))\n",
    "    radiance = (A / lam5) * inv_expm1\n",
    "\n",
    "    return radiance"
   ]
  },
  {
   "cell_type": "markdown",
   "metadata": {
    "slideshow": {
     "slide_type": "slide"
    }
   },
   "source": [
    "### What's the difference?"
   ]
  },
  {
   "cell_type": "code",
   "execution_count": 6,
   "metadata": {},
   "outputs": [
    {
     "name": "stdout",
     "output_type": "stream",
     "text": [
      "3.74 s ± 0 ns per loop (mean ± std. dev. of 1 run, 1 loop each)\n",
      "2.88 ms ± 0 ns per loop (mean ± std. dev. of 1 run, 1 loop each)\n",
      "Speedup: 1297.4x\n"
     ]
    }
   ],
   "source": [
    "t_planck_slow = %timeit -o -n 1 -r 1 planck_slow(data) #-o表示可以将结果值赋给一个变量\n",
    "t_planck_fast = %timeit -o -n 1 -r 1 planck_fast(data_opt)\n",
    "print(f\"Speedup: {t_planck_slow.average / t_planck_fast.average:.1f}x\")"
   ]
  },
  {
   "cell_type": "markdown",
   "metadata": {
    "editable": true,
    "slideshow": {
     "slide_type": "slide"
    },
    "tags": []
   },
   "source": [
    "## Profiling: Identifying bottlenecks 🕵️‍♂️"
   ]
  },
  {
   "cell_type": "markdown",
   "metadata": {
    "editable": true,
    "slideshow": {
     "slide_type": "slide"
    },
    "tags": []
   },
   "source": [
    "Let's have a look at a bit of \"slow\" code:"
   ]
  },
  {
   "cell_type": "code",
   "execution_count": 62,
   "metadata": {
    "editable": true,
    "slideshow": {
     "slide_type": "-"
    },
    "tags": []
   },
   "outputs": [],
   "source": [
    "n = 1_000_000_000\n",
    "s = sum(range(1, n + 1))\n",
    "\n",
    "assert s == n * (n + 1) / 2"
   ]
  },
  {
   "cell_type": "markdown",
   "metadata": {
    "editable": true,
    "slideshow": {
     "slide_type": ""
    },
    "tags": []
   },
   "source": [
    "<div>\n",
    "<center>\n",
    "    <img src=\"images/eternity.jpg\" width=\"350\" alt=\"keep-calm-and-carry-on\" />\n",
    "</center>\n",
    "</div>\n",
    "\n",
    "We can \"see/feel\" it runs for some time, but for how long?"
   ]
  },
  {
   "cell_type": "markdown",
   "metadata": {
    "editable": true,
    "slideshow": {
     "slide_type": "slide"
    },
    "tags": []
   },
   "source": [
    "### Stopwatch approach ⏱️"
   ]
  },
  {
   "cell_type": "code",
   "execution_count": 9,
   "metadata": {
    "editable": true,
    "slideshow": {
     "slide_type": ""
    },
    "tags": []
   },
   "outputs": [
    {
     "name": "stdout",
     "output_type": "stream",
     "text": [
      "Wall Time: 0.683 seconds\n"
     ]
    }
   ],
   "source": [
    "import time\n",
    "\n",
    "start_time = time.time()  # start the stopwatch\n",
    "\n",
    "n = 100_000_000\n",
    "s = sum(range(1, n + 1))\n",
    "\n",
    "end_time = time.time()  # stop the stopwatch\n",
    "\n",
    "wall_time = end_time - start_time\n",
    "print(f\"Wall Time: {wall_time:.3f} seconds\")"
   ]
  },
  {
   "cell_type": "markdown",
   "metadata": {
    "editable": true,
    "slideshow": {
     "slide_type": ""
    },
    "tags": []
   },
   "source": [
    "Why do we call it **wall time**? 🤔"
   ]
  },
  {
   "cell_type": "markdown",
   "metadata": {
    "editable": true,
    "slideshow": {
     "slide_type": "slide"
    },
    "tags": []
   },
   "source": [
    "### Wall time 🕑 vs. CPU time 🖥️\n",
    "\n",
    "#### Wall Time\n",
    "\n",
    "- The actual time taken from the start to the end of a process as measured by a clock on the wall.\n",
    "- It includes all time spent, including time waiting for I/O operations, time spent in other processes, and any other delays.\n",
    "\n",
    "#### CPU Time\n",
    "- CPU time is the time for which a CPU was actively processing instructions.\n",
    "- It does not include time spent waiting for I/O operations or time when the CPU is idle.\n",
    "- It can be greater than wall time in multi-core systems where multiple processes run simultaneously."
   ]
  },
  {
   "cell_type": "markdown",
   "metadata": {
    "editable": true,
    "slideshow": {
     "slide_type": "slide"
    },
    "tags": []
   },
   "source": [
    "### Example: Accessing external content..."
   ]
  },
  {
   "cell_type": "code",
   "execution_count": 10,
   "metadata": {
    "editable": true,
    "slideshow": {
     "slide_type": ""
    },
    "tags": []
   },
   "outputs": [
    {
     "name": "stdout",
     "output_type": "stream",
     "text": [
      "Wall Time: 0.17 seconds\n",
      "CPU Time: 0.05 seconds\n"
     ]
    }
   ],
   "source": [
    "import time\n",
    "import requests\n",
    "\n",
    "start_wall_time = time.time()\n",
    "start_cpu_time = time.process_time()\n",
    "\n",
    "# Simulate a delay by reading something from the internet\n",
    "response = requests.get(\"https://www.example.com\")\n",
    "data = response.text\n",
    "\n",
    "end_wall_time = time.time()\n",
    "end_cpu_time = time.process_time()\n",
    "\n",
    "wall_time = end_wall_time - start_wall_time\n",
    "cpu_time = end_cpu_time - start_cpu_time\n",
    "\n",
    "print(f\"Wall Time: {wall_time:.2f} seconds\")\n",
    "print(f\"CPU Time: {cpu_time:.2f} seconds\")"
   ]
  },
  {
   "cell_type": "markdown",
   "metadata": {
    "editable": true,
    "slideshow": {
     "slide_type": "slide"
    },
    "tags": []
   },
   "source": [
    "### Wall time 🕑 vs. CPU time 🖥️\n",
    "\n",
    "$$\\text{CPU time}$$\n",
    "\n",
    "$$+$$\n",
    "\n",
    "$$\\text{time spent on thing outside our code (reading/writing to disk, internet,...)}$$\n",
    "\n",
    "$$\\downarrow$$\n",
    "\n",
    "$$\\text{wall time}$$\n",
    "\n",
    "We like to keep things simple - we will measure only **wall time**. In computational science, the code is \"computation heavy\" - we assume that most of the time is spent inside the CPU.\n",
    "\n",
    "**IMPORTANT:** `time.process_time()` can be full of surprises. That's why we use `timeit` and measure wall time."
   ]
  },
  {
   "cell_type": "markdown",
   "metadata": {
    "editable": true,
    "slideshow": {
     "slide_type": "slide"
    },
    "tags": []
   },
   "source": [
    "### [`timeit`](https://docs.python.org/3/library/timeit.html) module\n",
    "\n",
    "- A simple and quick way to time small bits of code.\n",
    "- It measures **wall time**.\n",
    "- Part of the Python standard library (available wherever Python is installed)\n",
    "- We will use it as an IPython magic command\n",
    "  - **IPython** is the kernel that powers Python code execution in Jupyter notebooks (Jupyter used to be called *IPython Notebook*)\n",
    "  - IPython magic commands are special commands:\n",
    "    - prefixed with % (line magic) or %% (cell magic)\n",
    "    - work only when we are working in notebooks"
   ]
  },
  {
   "cell_type": "markdown",
   "metadata": {
    "editable": true,
    "slideshow": {
     "slide_type": "slide"
    },
    "tags": []
   },
   "source": [
    "### `%timeit` magic"
   ]
  },
  {
   "cell_type": "code",
   "execution_count": 11,
   "metadata": {
    "editable": true,
    "slideshow": {
     "slide_type": "-"
    },
    "tags": []
   },
   "outputs": [
    {
     "name": "stdout",
     "output_type": "stream",
     "text": [
      "2.21 ns ± 0.0364 ns per loop (mean ± std. dev. of 7 runs, 100,000,000 loops each)\n"
     ]
    }
   ],
   "source": [
    "%timeit 1 + 2"
   ]
  },
  {
   "cell_type": "markdown",
   "metadata": {
    "editable": true,
    "slideshow": {
     "slide_type": "-"
    },
    "tags": []
   },
   "source": [
    "- The command `1 + 2` was executed in `r` runs, each consisting of `n` loops (`r * n` in total) to get better statistics:\n",
    "  - **Runs**: The number of times the entire timing experiment is repeated to help average out any variability in the execution time due to external factors.\n",
    "  - **Loops**: The number of times the code snippet is executed in each run. This helps to get a more accurate measurement by reducing the impact of very short execution times.\n",
    "- We should pay attention to standard deviation - if it's too large, we might want to repeat the measurement.\n",
    "- We can specify the number of runs (`-r`) and the number of iterations (`-n`)."
   ]
  },
  {
   "cell_type": "code",
   "execution_count": 12,
   "metadata": {
    "editable": true,
    "slideshow": {
     "slide_type": "-"
    },
    "tags": []
   },
   "outputs": [
    {
     "name": "stdout",
     "output_type": "stream",
     "text": [
      "8.87 ns ± 1.06 ns per loop (mean ± std. dev. of 10 runs, 100 loops each)\n"
     ]
    }
   ],
   "source": [
    "%timeit -r 10 -n 100 1 + 2"
   ]
  },
  {
   "cell_type": "markdown",
   "metadata": {
    "editable": true,
    "slideshow": {
     "slide_type": "slide"
    },
    "tags": []
   },
   "source": [
    "### `%%timeit` magic\n",
    "\n",
    "Fair enough, but what if I have multiple lines of code? 💁‍♂️"
   ]
  },
  {
   "cell_type": "code",
   "execution_count": 13,
   "metadata": {
    "editable": true,
    "slideshow": {
     "slide_type": "-"
    },
    "tags": []
   },
   "outputs": [
    {
     "name": "stdout",
     "output_type": "stream",
     "text": [
      "15.5 ms ± 267 μs per loop (mean ± std. dev. of 7 runs, 100 loops each)\n"
     ]
    }
   ],
   "source": [
    "%%timeit  # will do that ;)\n",
    "#%%timeit -r 10 -n 100\n",
    "n = 1_000_000\n",
    "total = 0\n",
    "for i in range(n):\n",
    "    total += i"
   ]
  },
  {
   "cell_type": "markdown",
   "metadata": {
    "editable": true,
    "slideshow": {
     "slide_type": "slide"
    },
    "tags": []
   },
   "source": [
    "### `%timeit` output object\n",
    "\n",
    "Instead of a simple print of wall time, we can ask for the output object (`-o`)."
   ]
  },
  {
   "cell_type": "code",
   "execution_count": 14,
   "metadata": {
    "editable": true,
    "slideshow": {
     "slide_type": "-"
    },
    "tags": []
   },
   "outputs": [
    {
     "name": "stdout",
     "output_type": "stream",
     "text": [
      "15.8 ms ± 133 μs per loop (mean ± std. dev. of 7 runs, 100 loops each)\n"
     ]
    },
    {
     "data": {
      "text/plain": [
       "<TimeitResult : 15.8 ms ± 133 μs per loop (mean ± std. dev. of 7 runs, 100 loops each)>"
      ]
     },
     "execution_count": 14,
     "metadata": {},
     "output_type": "execute_result"
    }
   ],
   "source": [
    "%timeit -o sum(i for i in range(1_000_000))"
   ]
  },
  {
   "cell_type": "markdown",
   "metadata": {
    "editable": true,
    "slideshow": {
     "slide_type": ""
    },
    "tags": []
   },
   "source": [
    "The first line in the output comes from `print`, and the second one comes from `return`. Whatever `return` throws, we can catch it with a variable."
   ]
  },
  {
   "cell_type": "code",
   "execution_count": 15,
   "metadata": {
    "editable": true,
    "slideshow": {
     "slide_type": ""
    },
    "tags": []
   },
   "outputs": [
    {
     "name": "stdout",
     "output_type": "stream",
     "text": [
      "16 ms ± 128 μs per loop (mean ± std. dev. of 7 runs, 100 loops each)\n"
     ]
    }
   ],
   "source": [
    "timeit_object = %timeit -o sum(i for i in range(1_000_000))"
   ]
  },
  {
   "cell_type": "markdown",
   "metadata": {
    "editable": true,
    "slideshow": {
     "slide_type": "slide"
    },
    "tags": []
   },
   "source": [
    "#### Times of individual runs"
   ]
  },
  {
   "cell_type": "code",
   "execution_count": 17,
   "metadata": {
    "editable": true,
    "slideshow": {
     "slide_type": "-"
    },
    "tags": []
   },
   "outputs": [
    {
     "data": {
      "text/plain": [
       "[0.015681142920002458,\n",
       " 0.0159023087499736,\n",
       " 0.01604017000001477,\n",
       " 0.016034875420009486,\n",
       " 0.015965057089997573,\n",
       " 0.016046684170032677,\n",
       " 0.016081807910013596]"
      ]
     },
     "execution_count": 17,
     "metadata": {},
     "output_type": "execute_result"
    }
   ],
   "source": [
    "timeit_object.timings #存放每次重复运行的耗时"
   ]
  },
  {
   "cell_type": "markdown",
   "metadata": {
    "editable": true,
    "slideshow": {
     "slide_type": "slide"
    },
    "tags": []
   },
   "source": [
    "#### A bit more statistics"
   ]
  },
  {
   "cell_type": "code",
   "execution_count": 19,
   "metadata": {
    "editable": true,
    "slideshow": {
     "slide_type": "fragment"
    },
    "tags": []
   },
   "outputs": [
    {
     "data": {
      "text/plain": [
       "0.015964578037149166"
      ]
     },
     "execution_count": 19,
     "metadata": {},
     "output_type": "execute_result"
    }
   ],
   "source": [
    "timeit_object.average  # average wall time"
   ]
  },
  {
   "cell_type": "code",
   "execution_count": 20,
   "metadata": {
    "editable": true,
    "slideshow": {
     "slide_type": "fragment"
    },
    "tags": []
   },
   "outputs": [
    {
     "data": {
      "text/plain": [
       "0.015681142920002458"
      ]
     },
     "execution_count": 20,
     "metadata": {},
     "output_type": "execute_result"
    }
   ],
   "source": [
    "timeit_object.best  # the best (fastest) time"
   ]
  },
  {
   "cell_type": "code",
   "execution_count": 21,
   "metadata": {
    "editable": true,
    "slideshow": {
     "slide_type": "fragment"
    },
    "tags": []
   },
   "outputs": [
    {
     "data": {
      "text/plain": [
       "0.016081807910013596"
      ]
     },
     "execution_count": 21,
     "metadata": {},
     "output_type": "execute_result"
    }
   ],
   "source": [
    "timeit_object.worst  # the worst (slowest) time"
   ]
  },
  {
   "cell_type": "code",
   "execution_count": 22,
   "metadata": {
    "editable": true,
    "slideshow": {
     "slide_type": "fragment"
    },
    "tags": []
   },
   "outputs": [
    {
     "data": {
      "text/plain": [
       "0.00012837071666785605"
      ]
     },
     "execution_count": 22,
     "metadata": {},
     "output_type": "execute_result"
    }
   ],
   "source": [
    "timeit_object.stdev  # standard deviation"
   ]
  },
  {
   "cell_type": "markdown",
   "metadata": {
    "editable": true,
    "slideshow": {
     "slide_type": "slide"
    },
    "tags": []
   },
   "source": [
    "### Exercise 1: Loop or recursion?\n",
    "\n",
    "Write a function to calculate the factorial of a given number `n`.\n",
    "1. Implement `factorial_loop(n)` using a `for` loop.\n",
    "2. Implement `factorial_recursion(n)` using recursion.\n",
    "3. Use `%timeit` to compare the performance of both implementations and determine which one is faster and how much.\n",
    "\n",
    "#### What is Factorial?\n",
    "The factorial of a non-negative integer `n` is the product of all positive integers less than or equal to `n`. It is denoted by `n!` and defined as:\n",
    "$$n! = n \\times (n-1) \\times (n-2) \\times \\ldots \\times 1 $$\n",
    "\n",
    "For example, $5! = 5 \\times 4 \\times 3 \\times 2 \\times 1 = 120$.\n",
    "\n",
    "#### What is Recursion?\n",
    "Recursion is a programming technique where a function calls itself (😯🤯) to solve smaller instances of the same problem. For example,"
   ]
  },
  {
   "cell_type": "code",
   "execution_count": 23,
   "metadata": {
    "editable": true,
    "slideshow": {
     "slide_type": "slide"
    },
    "tags": []
   },
   "outputs": [
    {
     "name": "stdout",
     "output_type": "stream",
     "text": [
      "3\n",
      "2\n",
      "1\n",
      "Happy New Year!!!\n"
     ]
    }
   ],
   "source": [
    "def countdown(n):\n",
    "    \"\"\"\n",
    "    Print a countdown from n to 0 using recursion.\n",
    "\n",
    "    Parameters\n",
    "    ----------\n",
    "    n : int\n",
    "\n",
    "        The starting number for the countdown.\n",
    "\n",
    "    \"\"\"\n",
    "    if n <= 0:\n",
    "        print(\"Happy New Year!!!\")\n",
    "    else:\n",
    "        print(n)\n",
    "        countdown(n - 1)  # here, the function calls itself 🤯\n",
    "\n",
    "\n",
    "countdown(3)"
   ]
  },
  {
   "cell_type": "markdown",
   "metadata": {
    "editable": true,
    "slideshow": {
     "slide_type": "skip"
    },
    "tags": []
   },
   "source": [
    "#### Solution"
   ]
  },
  {
   "cell_type": "code",
   "execution_count": 24,
   "metadata": {
    "editable": true,
    "slideshow": {
     "slide_type": "skip"
    },
    "tags": []
   },
   "outputs": [],
   "source": [
    "def factorial_loop(n):\n",
    "    \"\"\"\n",
    "    Calculate the factorial of a number using a for loop.\n",
    "\n",
    "    Parameters\n",
    "    ----------\n",
    "    n : int\n",
    "        The number to calculate the factorial of.\n",
    "\n",
    "    Returns\n",
    "    -------\n",
    "    int\n",
    "        The factorial of the input number.\n",
    "\n",
    "    \"\"\"\n",
    "    product = 1\n",
    "    for i in range(1, n + 1):  # we start from 1 to n+1 because range is exclusive\n",
    "        product = product * i\n",
    "\n",
    "    return product\n",
    "\n",
    "\n",
    "def factorial_recursion(n):\n",
    "    \"\"\"\n",
    "    Calculate the factorial of a number using recursion.\n",
    "\n",
    "    Parameters\n",
    "    ----------\n",
    "    n : int\n",
    "        The number to calculate the factorial of.\n",
    "\n",
    "    Returns\n",
    "    -------\n",
    "    int\n",
    "        The factorial of the input number.\n",
    "\n",
    "    \"\"\"\n",
    "    if n == 0:\n",
    "        return 1\n",
    "    else:\n",
    "        return n * factorial_recursion(n - 1)"
   ]
  },
  {
   "cell_type": "code",
   "execution_count": 25,
   "metadata": {
    "editable": true,
    "slideshow": {
     "slide_type": "skip"
    },
    "tags": []
   },
   "outputs": [
    {
     "name": "stdout",
     "output_type": "stream",
     "text": [
      "2.27 μs ± 19.2 ns per loop (mean ± std. dev. of 7 runs, 100,000 loops each)\n"
     ]
    }
   ],
   "source": [
    "timeit_loop = %timeit -o factorial_loop(100)"
   ]
  },
  {
   "cell_type": "code",
   "execution_count": 26,
   "metadata": {
    "editable": true,
    "slideshow": {
     "slide_type": "skip"
    },
    "tags": []
   },
   "outputs": [
    {
     "name": "stdout",
     "output_type": "stream",
     "text": [
      "3.64 μs ± 25.3 ns per loop (mean ± std. dev. of 7 runs, 100,000 loops each)\n"
     ]
    }
   ],
   "source": [
    "timeit_recursion = %timeit -o factorial_recursion(100)"
   ]
  },
  {
   "cell_type": "code",
   "execution_count": 27,
   "metadata": {
    "editable": true,
    "slideshow": {
     "slide_type": "skip"
    },
    "tags": []
   },
   "outputs": [
    {
     "name": "stdout",
     "output_type": "stream",
     "text": [
      "Recursion version is 1.60 times slower.\n"
     ]
    }
   ],
   "source": [
    "ratio = timeit_recursion.average / timeit_loop.average\n",
    "print(f\"Recursion version is {ratio:.2f} times slower.\")"
   ]
  },
  {
   "cell_type": "markdown",
   "metadata": {
    "editable": true,
    "slideshow": {
     "slide_type": "skip"
    },
    "tags": []
   },
   "source": [
    "Recursion solution is slower due to the overhead of function calls. Each recursive call adds a new frame to the call stack, consuming memory and increasing the wall time. Recursion should be avoided in Python for problems that can be solved iteratively, especially when dealing with large input sizes or when performance is critical. In addition, the size of the stack is limited - we cannot have more than $N$ active function calls. If we do, that results in stack overflow, after which the famous coding forum, [Stack Overflow](https://stackoverflow.com/) is named.\n",
    "\n",
    "**What is a stack?** A stack is a data structure that keeps track of active functions, where each call (`factorial(n)`) adds a new frame to the stack and each `return` removes the top frame, ensuring that the most recently called function is the first to be completed."
   ]
  },
  {
   "cell_type": "markdown",
   "metadata": {
    "editable": true,
    "slideshow": {
     "slide_type": "slide"
    },
    "tags": []
   },
   "source": [
    "### `cProfile` - getting more detail 🔍\n",
    "\n",
    "- Using `timeit` magic, we measured the total wall time of a code snippet.\n",
    "- The code snippet may be calling lots of other functions internally.\n",
    "- How do we then find a bottleneck? 🤔 Where do we spend most time?\n",
    "- `cProfile` provides detailed statistics on how many times each function was called and how much time was spent in each function, allowing us to identify performance bottlenecks at a more granular level."
   ]
  },
  {
   "cell_type": "markdown",
   "metadata": {
    "editable": true,
    "slideshow": {
     "slide_type": "slide"
    },
    "tags": []
   },
   "source": [
    "### Example: Estimating $\\pi$ using the Monte Carlo method\n",
    "\n",
    "The Monte Carlo method involves generating random points in a unit square and determining how many fall within a quarter circle inscribed within the square. The ratio of the points inside the quarter circle $n_\\text{in}$ to the total number of points $n_\\text{total}$ can be used to estimate $\\pi$:\n",
    "\n",
    "$$\\pi = 4\\frac{n_\\text{in}}{n_\\text{total}}$$\n",
    "\n",
    "<div>\n",
    "<center>\n",
    "    <img src=\"images/pi-monte-carlo.png\" width=\"400\" alt=\"pi estimation\" />\n",
    "</center>\n",
    "</div>\n",
    "\n",
    "Marcus Surges. [Java: How to approximate Pi with the Monte Carlo simulation](https://blog.surges.eu/java-how-to-approximate-pi-with-the-monte-carlo-simulation/). (2020)"
   ]
  },
  {
   "cell_type": "code",
   "execution_count": 4,
   "metadata": {
    "editable": true,
    "slideshow": {
     "slide_type": "slide"
    },
    "tags": []
   },
   "outputs": [],
   "source": [
    "import random\n",
    "\n",
    "\n",
    "def random_list(size):\n",
    "    \"\"\"\n",
    "    Generate a list of random numbers between 0 and 1.\n",
    "\n",
    "    Parameters\n",
    "    ----------\n",
    "    size : int\n",
    "        The number of random numbers to generate.\n",
    "\n",
    "    Returns\n",
    "    -------\n",
    "    list of float\n",
    "        A list of random numbers between 0 and 1.\n",
    "    \"\"\"\n",
    "    return [random.random() for _ in range(size)]"
   ]
  },
  {
   "cell_type": "code",
   "execution_count": 5,
   "metadata": {
    "editable": true,
    "slideshow": {
     "slide_type": "slide"
    },
    "tags": []
   },
   "outputs": [],
   "source": [
    "def distance(x, y):\n",
    "    \"\"\"\n",
    "    Compute the distance of a point (x, y) from the origin (0, 0).\n",
    "\n",
    "    Parameters\n",
    "    ----------\n",
    "    x : float\n",
    "        The x-coordinate of the point.\n",
    "    y : float\n",
    "        The y-coordinate of the point.\n",
    "\n",
    "    Returns\n",
    "    -------\n",
    "    float\n",
    "        The distance from the origin.\n",
    "    \"\"\"\n",
    "    return (x**2 + y**2) ** 0.5"
   ]
  },
  {
   "cell_type": "code",
   "execution_count": 6,
   "metadata": {
    "editable": true,
    "slideshow": {
     "slide_type": "slide"
    },
    "tags": []
   },
   "outputs": [
    {
     "name": "stdout",
     "output_type": "stream",
     "text": [
      "Estimate of pi: 3.141696\n"
     ]
    }
   ],
   "source": [
    "def estimate_pi(n):\n",
    "    \"\"\"Estimate the value of pi using Monte Carlo simulation.\n",
    "\n",
    "    Parameters\n",
    "    ----------\n",
    "    n : int\n",
    "        The number of random points generated.\n",
    "\n",
    "    Returns\n",
    "    -------\n",
    "    float\n",
    "        An estimate of pi.\n",
    "\n",
    "    \"\"\"\n",
    "    x_list = random_list(n)\n",
    "    y_list = random_list(n)\n",
    "\n",
    "    in_circle = 0\n",
    "    for x, y in zip(x_list, y_list):\n",
    "        if distance(x, y) <= 1:\n",
    "            in_circle += 1\n",
    "\n",
    "    return 4 * in_circle / n\n",
    "\n",
    "\n",
    "print(f\"Estimate of pi: {estimate_pi(1_000_000)}\")"
   ]
  },
  {
   "cell_type": "markdown",
   "metadata": {
    "editable": true,
    "slideshow": {
     "slide_type": "slide"
    },
    "tags": []
   },
   "source": [
    "### Total wall time"
   ]
  },
  {
   "cell_type": "code",
   "execution_count": 31,
   "metadata": {
    "editable": true,
    "slideshow": {
     "slide_type": "-"
    },
    "tags": []
   },
   "outputs": [
    {
     "name": "stdout",
     "output_type": "stream",
     "text": [
      "151 ms ± 449 μs per loop (mean ± std. dev. of 7 runs, 10 loops each)\n"
     ]
    }
   ],
   "source": [
    "%timeit estimate_pi(n=1_000_000)"
   ]
  },
  {
   "cell_type": "markdown",
   "metadata": {
    "editable": true,
    "slideshow": {
     "slide_type": "-"
    },
    "tags": []
   },
   "source": [
    "Well... We have the total wall time, but can we have a look at what happens internally? At the end of the day, we need to find that bottleneck."
   ]
  },
  {
   "cell_type": "markdown",
   "metadata": {
    "editable": true,
    "slideshow": {
     "slide_type": "slide"
    },
    "tags": []
   },
   "source": [
    "### `%prun` magic\n",
    "\n",
    "Just like [`timeit`](https://docs.python.org/3/library/timeit.html) module had its IPython magic command (`%timeit`), [`cProfile`](https://docs.python.org/3/library/profile.html) has its own: `%prun` 🪄🧙"
   ]
  },
  {
   "cell_type": "code",
   "execution_count": 32,
   "metadata": {
    "editable": true,
    "slideshow": {
     "slide_type": "-"
    },
    "tags": []
   },
   "outputs": [
    {
     "name": "stdout",
     "output_type": "stream",
     "text": [
      " "
     ]
    },
    {
     "data": {
      "text/plain": [
       "         3000558 function calls (3000552 primitive calls) in 0.485 seconds\n",
       "\n",
       "   Ordered by: internal time\n",
       "\n",
       "   ncalls  tottime  percall  cumtime  percall filename:lineno(function)\n",
       "      2/1    0.102    0.051    0.376    0.376 {built-in method builtins.exec}\n",
       "  1000000    0.097    0.000    0.097    0.000 3420272529.py:1(distance)\n",
       "  2000000    0.082    0.000    0.082    0.000 {method 'random' of '_random.Random' objects}\n",
       "        1    0.082    0.082    0.260    0.260 1621011123.py:1(estimate_pi)\n",
       "       14    0.054    0.004    0.095    0.007 socket.py:623(send)\n",
       "        2    0.046    0.023    0.081    0.041 881403127.py:4(random_list)\n",
       "      2/1    0.012    0.006    0.268    0.268 <string>:1(<module>)\n",
       "        1    0.004    0.004    0.006    0.006 {method 'execute' of 'sqlite3.Connection' objects}\n",
       "        1    0.004    0.004    0.006    0.006 {method 'control' of 'select.kqueue' objects}\n",
       "        4    0.000    0.000    0.000    0.000 attrsettr.py:66(_get_attr_opt)\n",
       "        2    0.000    0.000    0.102    0.051 {method 'run' of '_contextvars.Context' objects}\n",
       "        2    0.000    0.000    0.087    0.044 socket.py:700(send_multipart)\n",
       "       14    0.000    0.000    0.000    0.000 enum.py:1596(__or__)\n",
       "        1    0.000    0.000    0.000    0.000 {method 'disable' of '_lsprof.Profiler' objects}\n",
       "        1    0.000    0.000    0.014    0.014 history.py:1008(_writeout_input_cache)\n",
       "       60    0.000    0.000    0.000    0.000 enum.py:1589(_get_value)\n",
       "  131/127    0.000    0.000    0.000    0.000 {built-in method builtins.isinstance}\n",
       "        1    0.000    0.000    0.014    0.014 history.py:1024(writeout_cache)\n",
       "       26    0.000    0.000    0.000    0.000 enum.py:695(__call__)\n",
       "        2    0.000    0.000    0.000    0.000 socket.py:771(recv_multipart)\n",
       "        1    0.000    0.000    0.000    0.000 inspect.py:3148(_bind)\n",
       "        4    0.000    0.000    0.000    0.000 attrsettr.py:43(__getattr__)\n",
       "        2    0.000    0.000    0.000    0.000 {method '__exit__' of 'sqlite3.Connection' objects}\n",
       "       26    0.000    0.000    0.000    0.000 enum.py:1156(__new__)\n",
       "        2    0.000    0.000    0.102    0.051 iostream.py:276(<lambda>)\n",
       "        1    0.000    0.000    0.000    0.000 traitlets.py:1527(_notify_observers)\n",
       "        2    0.000    0.000    0.000    0.000 traitlets.py:718(_validate)\n",
       "        2    0.000    0.000    0.102    0.051 zmqstream.py:546(_run_callback)\n",
       "        6    0.000    0.000    0.000    0.000 typing.py:426(inner)\n",
       "        2    0.000    0.000    0.102    0.051 iostream.py:157(_handle_event)\n",
       "        2    0.000    0.000    0.000    0.000 traitlets.py:689(set)\n",
       "        2    0.000    0.000    0.102    0.051 zmqstream.py:614(_handle_recv)\n",
       "        6    0.000    0.000    0.000    0.000 enum.py:1607(__and__)\n",
       "        2    0.000    0.000    0.087    0.044 iostream.py:278(_really_send)\n",
       "        1    0.000    0.000    0.000    0.000 traitlets.py:1512(_notify_trait)\n",
       "        1    0.000    0.000    0.000    0.000 inspect.py:2962(apply_defaults)\n",
       "        8    0.000    0.000    0.000    0.000 {built-in method builtins.next}\n",
       "        2    0.000    0.000    0.000    0.000 traitlets.py:727(_cross_validate)\n",
       "        9    0.000    0.000    0.000    0.000 {built-in method builtins.hasattr}\n",
       "        1    0.000    0.000    0.000    0.000 decorator.py:200(fix)\n",
       "        1    0.000    0.000    0.000    0.000 threading.py:315(_acquire_restore)\n",
       "        4    0.000    0.000    0.000    0.000 <frozen importlib._bootstrap>:1390(_handle_fromlist)\n",
       "        1    0.000    0.000    0.014    0.014 history.py:92(only_when_enabled)\n",
       "        2    0.000    0.000    0.000    0.000 traitlets.py:3474(validate)\n",
       "        4    0.000    0.000    0.000    0.000 traitlets.py:676(__get__)\n",
       "        1    0.000    0.000    0.102    0.102 asyncio.py:206(_handle_events)\n",
       "        1    0.000    0.000    0.000    0.000 inspect.py:3290(bind)\n",
       "        2    0.000    0.000    0.000    0.000 traitlets.py:3631(set)\n",
       "        2    0.000    0.000    0.102    0.051 zmqstream.py:573(_handle_events)\n",
       "        1    0.000    0.000    0.000    0.000 contextlib.py:108(__init__)\n",
       "        1    0.000    0.000    0.000    0.000 contextlib.py:145(__exit__)\n",
       "        2    0.000    0.000    0.000    0.000 traitlets.py:3624(validate_elements)\n",
       "        1    0.000    0.000    0.014    0.014 decorator.py:232(fun)\n",
       "        2    0.000    0.000    0.000    0.000 traitlets.py:2304(validate)\n",
       "        1    0.000    0.000    0.006    0.006 base_events.py:1962(_run_once)\n",
       "        2    0.000    0.000    0.000    0.000 selector_events.py:740(_process_events)\n",
       "        5    0.000    0.000    0.000    0.000 {built-in method builtins.getattr}\n",
       "        1    0.000    0.000    0.000    0.000 history.py:1016(_writeout_output_cache)\n",
       "        3    0.000    0.000    0.000    0.000 base_events.py:772(time)\n",
       "        2    0.000    0.000    0.000    0.000 iostream.py:213(_is_master_process)\n",
       "        1    0.000    0.000    0.000    0.000 base_events.py:1947(_add_callback)\n",
       "        4    0.000    0.000    0.000    0.000 traitlets.py:629(get)\n",
       "        5    0.000    0.000    0.000    0.000 {method 'get' of 'dict' objects}\n",
       "        1    0.000    0.000    0.000    0.000 inspect.py:2909(args)\n",
       "        1    0.000    0.000    0.000    0.000 traitlets.py:1523(notify_change)\n",
       "        1    0.000    0.000    0.000    0.000 asyncio.py:231(add_callback)\n",
       "        4    0.000    0.000    0.000    0.000 typing.py:1443(__hash__)\n",
       "        2    0.000    0.000    0.000    0.000 zmqstream.py:653(_rebuild_io_state)\n",
       "        2    0.000    0.000    0.000    0.000 traitlets.py:708(__set__)\n",
       "        2    0.000    0.000    0.102    0.051 events.py:87(_run)\n",
       "        1    0.000    0.000    0.006    0.006 selectors.py:540(select)\n",
       "        2    0.000    0.000    0.000    0.000 zmqstream.py:676(_update_handler)\n",
       "        2    0.000    0.000    0.000    0.000 threading.py:306(__exit__)\n",
       "        1    0.000    0.000    0.000    0.000 contextlib.py:303(helper)\n",
       "        2    0.000    0.000    0.000    0.000 typing.py:1665(__subclasscheck__)\n",
       "        1    0.000    0.000    0.000    0.000 {method 'values' of 'mappingproxy' objects}\n",
       "       10    0.000    0.000    0.000    0.000 {built-in method builtins.len}\n",
       "        2    0.000    0.000    0.000    0.000 threading.py:303(__enter__)\n",
       "        5    0.000    0.000    0.000    0.000 {method 'append' of 'list' objects}\n",
       "        1    0.000    0.000    0.000    0.000 events.py:36(__init__)\n",
       "        3    0.000    0.000    0.000    0.000 {method 'acquire' of '_thread.lock' objects}\n",
       "        2    0.000    0.000    0.000    0.000 queue.py:115(empty)\n",
       "       20    0.000    0.000    0.000    0.000 typing.py:2371(cast)\n",
       "        6    0.000    0.000    0.000    0.000 {method '__exit__' of '_thread.lock' objects}\n",
       "        1    0.000    0.000    0.000    0.000 threading.py:312(_release_save)\n",
       "        1    0.000    0.000    0.000    0.000 base_events.py:852(_call_soon)\n",
       "        2    0.000    0.000    0.000    0.000 history.py:1065(hold)\n",
       "        2    0.000    0.000    0.000    0.000 {built-in method builtins.iter}\n",
       "        1    0.000    0.000    0.000    0.000 inspect.py:2932(kwargs)\n",
       "        2    0.000    0.000    0.000    0.000 {built-in method _abc._abc_subclasscheck}\n",
       "        1    0.000    0.000    0.000    0.000 contextlib.py:136(__enter__)\n",
       "        2    0.000    0.000    0.000    0.000 {method 'extend' of 'list' objects}\n",
       "        2    0.000    0.000    0.000    0.000 typing.py:1374(__instancecheck__)\n",
       "        2    0.000    0.000    0.000    0.000 iostream.py:216(_check_mp_mode)\n",
       "        2    0.000    0.000    0.000    0.000 traitlets.py:3486(validate_elements)\n",
       "        3    0.000    0.000    0.000    0.000 {method 'append' of 'collections.deque' objects}\n",
       "        4    0.000    0.000    0.000    0.000 {method 'popleft' of 'collections.deque' objects}\n",
       "        1    0.000    0.000    0.000    0.000 threading.py:631(clear)\n",
       "       10    0.000    0.000    0.000    0.000 inspect.py:2819(kind)\n",
       "        2    0.000    0.000    0.000    0.000 abc.py:121(__subclasscheck__)\n",
       "        4    0.000    0.000    0.000    0.000 {method 'upper' of 'str' objects}\n",
       "        2    0.000    0.000    0.000    0.000 zmqstream.py:532(sending)\n",
       "        2    0.000    0.000    0.000    0.000 {built-in method builtins.issubclass}\n",
       "        3    0.000    0.000    0.000    0.000 {method 'items' of 'mappingproxy' objects}\n",
       "        1    0.000    0.000    0.000    0.000 {built-in method _thread.allocate_lock}\n",
       "        1    0.000    0.000    0.000    0.000 base_events.py:823(call_soon)\n",
       "        4    0.000    0.000    0.000    0.000 zmqstream.py:528(receiving)\n",
       "        1    0.000    0.000    0.000    0.000 ioloop.py:750(_run_callback)\n",
       "        3    0.000    0.000    0.000    0.000 {built-in method time.monotonic}\n",
       "        1    0.000    0.000    0.000    0.000 threading.py:318(_is_owned)\n",
       "        2    0.000    0.000    0.000    0.000 queue.py:267(_qsize)\n",
       "        4    0.000    0.000    0.000    0.000 {built-in method builtins.hash}\n",
       "        2    0.000    0.000    0.000    0.000 {built-in method posix.getpid}\n",
       "        2    0.000    0.000    0.000    0.000 iostream.py:255(closed)\n",
       "        2    0.000    0.000    0.000    0.000 {method '__enter__' of '_thread.lock' objects}\n",
       "        4    0.000    0.000    0.000    0.000 inspect.py:2807(name)\n",
       "        4    0.000    0.000    0.000    0.000 inspect.py:3102(parameters)\n",
       "        1    0.000    0.000    0.000    0.000 zmqstream.py:684(<lambda>)\n",
       "        2    0.000    0.000    0.000    0.000 {built-in method builtins.max}\n",
       "        1    0.000    0.000    0.000    0.000 inspect.py:2901(__init__)\n",
       "        1    0.000    0.000    0.000    0.000 {method 'release' of '_thread.lock' objects}\n",
       "        1    0.000    0.000    0.000    0.000 {built-in method _contextvars.copy_context}\n",
       "        1    0.000    0.000    0.000    0.000 {built-in method _asyncio.get_running_loop}\n",
       "        1    0.000    0.000    0.000    0.000 base_events.py:2060(get_debug)\n",
       "        1    0.000    0.000    0.000    0.000 base_events.py:554(_check_closed)"
      ]
     },
     "metadata": {},
     "output_type": "display_data"
    }
   ],
   "source": [
    "%prun estimate_pi(n=1_000_000)"
   ]
  },
  {
   "cell_type": "code",
   "execution_count": 33,
   "metadata": {},
   "outputs": [
    {
     "name": "stdout",
     "output_type": "stream",
     "text": [
      " "
     ]
    },
    {
     "data": {
      "text/plain": [
       "         3000557 function calls (3000552 primitive calls) in 0.488 seconds\n",
       "\n",
       "   Ordered by: cumulative time\n",
       "   List reduced from 125 to 8 due to restriction <8>\n",
       "\n",
       "   ncalls  tottime  percall  cumtime  percall filename:lineno(function)\n",
       "      2/1    0.106    0.053    0.380    0.380 {built-in method builtins.exec}\n",
       "        1    0.007    0.007    0.272    0.272 <string>:1(<module>)\n",
       "        1    0.084    0.084    0.265    0.265 1621011123.py:1(estimate_pi)\n",
       "        2    0.000    0.000    0.102    0.051 events.py:87(_run)\n",
       "        2    0.000    0.000    0.102    0.051 {method 'run' of '_contextvars.Context' objects}\n",
       "        2    0.000    0.000    0.102    0.051 zmqstream.py:573(_handle_events)\n",
       "        1    0.000    0.000    0.102    0.102 asyncio.py:206(_handle_events)\n",
       "        2    0.000    0.000    0.102    0.051 zmqstream.py:614(_handle_recv)"
      ]
     },
     "metadata": {},
     "output_type": "display_data"
    }
   ],
   "source": [
    "# -l limit the number of lines shown\n",
    "# -s sort by the given column (time, cumulative, etc.)\n",
    "%prun -l 8 -s cumulative estimate_pi(n=1_000_000)"
   ]
  },
  {
   "cell_type": "markdown",
   "metadata": {
    "editable": true,
    "slideshow": {
     "slide_type": "slide"
    },
    "tags": []
   },
   "source": [
    "### What are all those columns?\n",
    "\n",
    "- `filename:lineno(function)` (last column): Somewhat cryptic way of saying what function is the row for. What we are looking for is often in parenthesis at the end.\n",
    "- `ncalls`: Number of times the function was called.\n",
    "- `tottime`: Total time spent in the function (**excluding** time in sub-functions).\n",
    "- `percall`: Time per call (`tottime` divided by `ncalls`).\n",
    "- `cumtime`: Cumulative time spent in the function **and** all sub-functions.\n",
    "- `percall`: Time per call (`cumtime` divided by `ncalls`)."
   ]
  },
  {
   "cell_type": "markdown",
   "metadata": {
    "editable": true,
    "slideshow": {
     "slide_type": "slide"
    },
    "tags": []
   },
   "source": [
    "### Exercise 2: Understanding the `%prun` table\n",
    "\n",
    "In this exercise, you will analyze the performance of a function that calls two other functions internally. Each of these functions includes a `time.sleep()` call to simulate time-consuming operations and performs a \"useful\" (not really) task. You do not need to write any code in this exercise. Just run the cells.\n",
    "\n",
    "What should I do then? Look at the `%prun` output table and attempt to match it with the code to understand the values of individual columns."
   ]
  },
  {
   "cell_type": "code",
   "execution_count": 34,
   "metadata": {
    "editable": true,
    "slideshow": {
     "slide_type": "skip"
    },
    "tags": []
   },
   "outputs": [],
   "source": [
    "import time\n",
    "\n",
    "\n",
    "def lazy_sum(n):\n",
    "    \"\"\"\n",
    "    Lazily sleep for 0.5 seconds and then calculate the sum of the first n natural numbers.\n",
    "\n",
    "    Parameters\n",
    "    ----------\n",
    "    n : int\n",
    "        The number up to which to lazily calculate the sum.\n",
    "\n",
    "    Returns\n",
    "    -------\n",
    "    int\n",
    "        The lazy sum of the first n natural numbers.\n",
    "    \"\"\"\n",
    "    time.sleep(0.5)  # sleep for 0.5 seconds and do nothing 😴\n",
    "    return sum(range(1, n + 1))\n",
    "\n",
    "\n",
    "def lazy_factorial(n):\n",
    "    \"\"\"\n",
    "    Lazily sleep for 1 second and then calculate the factorial of n.\n",
    "\n",
    "    Parameters\n",
    "    ----------\n",
    "    n : int\n",
    "        The number for which to lazily calculate the factorial.\n",
    "\n",
    "    Returns\n",
    "    -------\n",
    "    int\n",
    "        The lazy factorial of n.\n",
    "    \"\"\"\n",
    "    time.sleep(1)  # sleep for 1 second and do nothing 😴\n",
    "\n",
    "    # As we have seen earlier, recursion is not the fastest way to calculate factorial.\n",
    "    # So, we will use a for loop.\n",
    "    product = 1\n",
    "    for i in range(1, n + 1):\n",
    "        product *= i\n",
    "    return product\n",
    "\n",
    "\n",
    "def lazy_main_function():\n",
    "    \"\"\"\n",
    "    Lazily call lazy_sum and lazy_factorial multiple times.\n",
    "    \"\"\"\n",
    "    results = []\n",
    "    for i in range(1, 4):  # 3 iterations in total i = 1, 2, 3\n",
    "        results.append(lazy_sum(i))\n",
    "        results.append(lazy_factorial(i))\n",
    "    return results"
   ]
  },
  {
   "cell_type": "markdown",
   "metadata": {
    "editable": true,
    "slideshow": {
     "slide_type": "skip"
    },
    "tags": []
   },
   "source": [
    "We can now run `%prun` magic on `lazy_main_function`:"
   ]
  },
  {
   "cell_type": "code",
   "execution_count": 35,
   "metadata": {
    "editable": true,
    "slideshow": {
     "slide_type": "skip"
    },
    "tags": []
   },
   "outputs": [
    {
     "name": "stdout",
     "output_type": "stream",
     "text": [
      " "
     ]
    },
    {
     "data": {
      "text/plain": [
       "         657 function calls (640 primitive calls) in 4.532 seconds\n",
       "\n",
       "   Ordered by: internal time\n",
       "\n",
       "   ncalls  tottime  percall  cumtime  percall filename:lineno(function)\n",
       "     10/0    3.443    0.344    0.000          {built-in method time.sleep}\n",
       "        3    0.629    0.210    0.629    0.210 {method 'control' of 'select.kqueue' objects}\n",
       "        3    0.455    0.152    1.512    0.504 1592311768.py:4(lazy_sum)\n",
       "        2    0.001    0.001    0.001    0.001 {method '__exit__' of 'sqlite3.Connection' objects}\n",
       "        1    0.001    0.001    0.001    0.001 {method 'execute' of 'sqlite3.Connection' objects}\n",
       "        1    0.001    0.001    0.003    0.003 history.py:92(only_when_enabled)\n",
       "        1    0.000    0.000    0.000    0.000 {method 'disable' of '_lsprof.Profiler' objects}\n",
       "        4    0.000    0.000    0.000    0.000 attrsettr.py:66(_get_attr_opt)\n",
       "      2/1    0.000    0.000    4.531    4.531 {built-in method builtins.exec}\n",
       "        3    0.000    0.000    2.386    0.795 1592311768.py:22(lazy_factorial)\n",
       "      2/1    0.000    0.000    3.396    3.396 1592311768.py:46(lazy_main_function)\n",
       "        3    0.000    0.000    1.131    0.377 base_events.py:1962(_run_once)\n",
       "        2    0.000    0.000    0.000    0.000 zmqstream.py:546(_run_callback)\n",
       "       14    0.000    0.000    0.000    0.000 socket.py:623(send)\n",
       "        2    0.000    0.000    0.001    0.000 zmqstream.py:573(_handle_events)\n",
       "       60    0.000    0.000    0.000    0.000 enum.py:1589(_get_value)\n",
       "        4    0.000    0.000    0.001    0.000 {method 'run' of '_contextvars.Context' objects}\n",
       "  131/127    0.000    0.000    0.000    0.000 {built-in method builtins.isinstance}\n",
       "        4    0.000    0.000    0.000    0.000 attrsettr.py:43(__getattr__)\n",
       "        2    0.000    0.000    0.000    0.000 socket.py:700(send_multipart)\n",
       "        6    0.000    0.000    0.000    0.000 typing.py:426(inner)\n",
       "        2    0.000    0.000    0.000    0.000 tasks.py:703(sleep)\n",
       "       14    0.000    0.000    0.000    0.000 enum.py:1596(__or__)\n",
       "        2    0.000    0.000    0.000    0.000 socket.py:771(recv_multipart)\n",
       "        3    0.000    0.000    0.629    0.210 selectors.py:540(select)\n",
       "        4    0.000    0.000    0.001    0.000 events.py:87(_run)\n",
       "        1    0.000    0.000    0.000    0.000 iostream.py:127(_event_pipe_gc)\n",
       "        1    0.000    0.000    0.000    0.000 inspect.py:3148(_bind)\n",
       "       26    0.000    0.000    0.000    0.000 enum.py:695(__call__)\n",
       "        5    0.000    0.000    0.000    0.000 {built-in method posix.getppid}\n",
       "        6    0.000    0.000    0.000    0.000 enum.py:1607(__and__)\n",
       "        1    0.000    0.000    0.000    0.000 iostream.py:118(_run_event_pipe_gc)\n",
       "        1    0.000    0.000    0.002    0.002 history.py:1024(writeout_cache)\n",
       "        3    0.000    0.000    0.000    0.000 threading.py:1136(is_alive)\n",
       "       11    0.000    0.000    0.000    0.000 {method 'append' of 'list' objects}\n",
       "        3    0.000    0.000    0.000    0.000 events.py:36(__init__)\n",
       "      2/1    0.000    0.000    4.527    4.527 <string>:1(<module>)\n",
       "        1    0.000    0.000    0.000    0.000 futures.py:310(_set_result_unless_cancelled)\n",
       "        3    0.000    0.000    0.000    0.000 {built-in method builtins.sum}\n",
       "        1    0.000    0.000    0.000    0.000 events.py:157(cancel)\n",
       "        2    0.000    0.000    0.000    0.000 traitlets.py:718(_validate)\n",
       "        2    0.000    0.000    0.000    0.000 base_events.py:852(_call_soon)\n",
       "       26    0.000    0.000    0.000    0.000 enum.py:1156(__new__)\n",
       "        1    0.000    0.000    0.000    0.000 base_events.py:781(call_later)\n",
       "        2    0.000    0.000    0.000    0.000 iostream.py:157(_handle_event)\n",
       "        7    0.000    0.000    0.000    0.000 base_events.py:772(time)\n",
       "        1    0.000    0.000    0.000    0.000 base_events.py:805(call_at)\n",
       "        1    0.000    0.000    0.000    0.000 traitlets.py:1527(_notify_observers)\n",
       "        1    0.000    0.000    0.000    0.000 {method 'set_result' of '_asyncio.Future' objects}\n",
       "        1    0.000    0.000    0.000    0.000 decorator.py:200(fix)\n",
       "        2    0.000    0.000    0.000    0.000 traitlets.py:3631(set)\n",
       "        2    0.000    0.000    0.000    0.000 iostream.py:276(<lambda>)\n",
       "        2    0.000    0.000    0.000    0.000 traitlets.py:689(set)\n",
       "        4    0.000    0.000    0.000    0.000 <frozen importlib._bootstrap>:1390(_handle_fromlist)\n",
       "        1    0.000    0.000    0.000    0.000 asyncio.py:231(add_callback)\n",
       "        1    0.000    0.000    0.002    0.002 history.py:1008(_writeout_input_cache)\n",
       "        2    0.000    0.000    0.000    0.000 zmqstream.py:653(_rebuild_io_state)\n",
       "        2    0.000    0.000    0.000    0.000 zmqstream.py:614(_handle_recv)\n",
       "        2    0.000    0.000    0.000    0.000 traitlets.py:3474(validate)\n",
       "        2    0.000    0.000    0.000    0.000 zmqstream.py:676(_update_handler)\n",
       "        2    0.000    0.000    0.000    0.000 iostream.py:278(_really_send)\n",
       "        1    0.000    0.000    0.000    0.000 inspect.py:3290(bind)\n",
       "        1    0.000    0.000    0.000    0.000 base_events.py:457(create_future)\n",
       "        2    0.000    0.000    0.000    0.000 base_events.py:823(call_soon)\n",
       "        9    0.000    0.000    0.000    0.000 {built-in method builtins.hasattr}\n",
       "        8    0.000    0.000    0.000    0.000 {built-in method builtins.next}\n",
       "        2    0.000    0.000    0.000    0.000 typing.py:1374(__instancecheck__)\n",
       "        2    0.000    0.000    0.000    0.000 traitlets.py:727(_cross_validate)\n",
       "        4    0.000    0.000    0.000    0.000 traitlets.py:676(__get__)\n",
       "        4    0.000    0.000    0.000    0.000 selector_events.py:740(_process_events)\n",
       "       14    0.000    0.000    0.000    0.000 {built-in method builtins.len}\n",
       "        2    0.000    0.000    0.000    0.000 traitlets.py:3624(validate_elements)\n",
       "        1    0.000    0.000    0.003    0.003 decorator.py:232(fun)\n",
       "        2    0.000    0.000    0.000    0.000 typing.py:1665(__subclasscheck__)\n",
       "        1    0.000    0.000    0.000    0.000 inspect.py:2962(apply_defaults)\n",
       "        5    0.000    0.000    0.000    0.000 {built-in method builtins.getattr}\n",
       "        4    0.000    0.000    0.000    0.000 typing.py:1443(__hash__)\n",
       "        1    0.000    0.000    0.000    0.000 traitlets.py:1512(_notify_trait)\n",
       "        1    0.000    0.000    0.000    0.000 threading.py:315(_acquire_restore)\n",
       "        1    0.000    0.000    0.000    0.000 traitlets.py:1523(notify_change)\n",
       "        1    0.000    0.000    0.000    0.000 inspect.py:2909(args)\n",
       "        2    0.000    0.000    0.000    0.000 traitlets.py:708(__set__)\n",
       "        2    0.000    0.000    0.000    0.000 queue.py:115(empty)\n",
       "        2    0.000    0.000    0.000    0.000 traitlets.py:2304(validate)\n",
       "        7    0.000    0.000    0.000    0.000 {built-in method time.monotonic}\n",
       "        5    0.000    0.000    0.000    0.000 {method 'append' of 'collections.deque' objects}\n",
       "        1    0.000    0.000    0.000    0.000 base_events.py:1947(_add_callback)\n",
       "        4    0.000    0.000    0.000    0.000 traitlets.py:629(get)\n",
       "        2    0.000    0.000    0.000    0.000 zmqstream.py:532(sending)\n",
       "        1    0.000    0.000    0.000    0.000 events.py:113(__init__)\n",
       "        4    0.000    0.000    0.000    0.000 {built-in method builtins.max}\n",
       "        2    0.000    0.000    0.000    0.000 threading.py:303(__enter__)\n",
       "        2    0.000    0.000    0.000    0.000 {built-in method _contextvars.copy_context}\n",
       "        2    0.000    0.000    0.000    0.000 {built-in method builtins.issubclass}\n",
       "        2    0.000    0.000    0.000    0.000 {built-in method _abc._abc_subclasscheck}\n",
       "        1    0.000    0.000    0.000    0.000 contextlib.py:108(__init__)\n",
       "        1    0.000    0.000    0.000    0.000 contextlib.py:145(__exit__)\n",
       "        2    0.000    0.000    0.000    0.000 iostream.py:213(_is_master_process)\n",
       "        2    0.000    0.000    0.000    0.000 abc.py:121(__subclasscheck__)\n",
       "        6    0.000    0.000    0.000    0.000 {method 'popleft' of 'collections.deque' objects}\n",
       "        1    0.000    0.000    0.000    0.000 contextlib.py:303(helper)\n",
       "        2    0.000    0.000    0.000    0.000 threading.py:306(__exit__)\n",
       "       20    0.000    0.000    0.000    0.000 typing.py:2371(cast)\n",
       "        5    0.000    0.000    0.000    0.000 {method 'get' of 'dict' objects}\n",
       "        1    0.000    0.000    0.000    0.000 contextlib.py:136(__enter__)\n",
       "        1    0.000    0.000    0.001    0.001 asyncio.py:206(_handle_events)\n",
       "        1    0.000    0.000    0.000    0.000 {built-in method _heapq.heappop}\n",
       "        1    0.000    0.000    0.000    0.000 history.py:1016(_writeout_output_cache)\n",
       "        2    0.000    0.000    0.000    0.000 iostream.py:216(_check_mp_mode)\n",
       "        7    0.000    0.000    0.000    0.000 {method '__exit__' of '_thread.lock' objects}\n",
       "        2    0.000    0.000    0.000    0.000 queue.py:267(_qsize)\n",
       "        3    0.000    0.000    0.000    0.000 {method 'is_done' of '_thread._ThreadHandle' objects}\n",
       "        1    0.000    0.000    0.000    0.000 {built-in method math.isnan}\n",
       "        1    0.000    0.000    0.000    0.000 events.py:73(cancel)\n",
       "        1    0.000    0.000    0.000    0.000 threading.py:631(clear)\n",
       "        1    0.000    0.000    0.000    0.000 {method 'values' of 'mappingproxy' objects}\n",
       "        4    0.000    0.000    0.000    0.000 {method 'upper' of 'str' objects}\n",
       "        2    0.000    0.000    0.000    0.000 {built-in method _asyncio.get_running_loop}\n",
       "        1    0.000    0.000    0.000    0.000 ioloop.py:750(_run_callback)\n",
       "        1    0.000    0.000    0.000    0.000 inspect.py:2932(kwargs)\n",
       "        2    0.000    0.000    0.000    0.000 traitlets.py:3486(validate_elements)\n",
       "        1    0.000    0.000    0.000    0.000 threading.py:312(_release_save)\n",
       "        3    0.000    0.000    0.000    0.000 {method 'items' of 'mappingproxy' objects}\n",
       "        3    0.000    0.000    0.000    0.000 {method 'acquire' of '_thread.lock' objects}\n",
       "        1    0.000    0.000    0.000    0.000 {built-in method _heapq.heappush}\n",
       "        3    0.000    0.000    0.000    0.000 base_events.py:554(_check_closed)\n",
       "        5    0.000    0.000    0.000    0.000 base_events.py:2060(get_debug)\n",
       "        4    0.000    0.000    0.000    0.000 zmqstream.py:528(receiving)\n",
       "        1    0.000    0.000    0.000    0.000 {method 'cancelled' of '_asyncio.Future' objects}\n",
       "       10    0.000    0.000    0.000    0.000 inspect.py:2819(kind)\n",
       "        2    0.000    0.000    0.000    0.000 {built-in method builtins.iter}\n",
       "        2    0.000    0.000    0.000    0.000 history.py:1065(hold)\n",
       "        1    0.000    0.000    0.000    0.000 {built-in method _thread.allocate_lock}\n",
       "        4    0.000    0.000    0.000    0.000 {built-in method builtins.hash}\n",
       "        1    0.000    0.000    0.000    0.000 zmqstream.py:684(<lambda>)\n",
       "        1    0.000    0.000    0.000    0.000 {method 'items' of 'dict' objects}\n",
       "        3    0.000    0.000    0.000    0.000 threading.py:605(is_set)\n",
       "        2    0.000    0.000    0.000    0.000 {built-in method posix.getpid}\n",
       "        2    0.000    0.000    0.000    0.000 {method '__enter__' of '_thread.lock' objects}\n",
       "        4    0.000    0.000    0.000    0.000 inspect.py:3102(parameters)\n",
       "        2    0.000    0.000    0.000    0.000 {method 'extend' of 'list' objects}\n",
       "        2    0.000    0.000    0.000    0.000 iostream.py:255(closed)\n",
       "        1    0.000    0.000    0.000    0.000 base_events.py:1957(_timer_handle_cancelled)\n",
       "        4    0.000    0.000    0.000    0.000 inspect.py:2807(name)\n",
       "        1    0.000    0.000    0.000    0.000 threading.py:318(_is_owned)\n",
       "        1    0.000    0.000    0.000    0.000 inspect.py:2901(__init__)\n",
       "        1    0.000    0.000    0.000    0.000 {method 'release' of '_thread.lock' objects}"
      ]
     },
     "metadata": {},
     "output_type": "display_data"
    }
   ],
   "source": [
    "%prun lazy_main_function()"
   ]
  },
  {
   "cell_type": "markdown",
   "metadata": {
    "editable": true,
    "slideshow": {
     "slide_type": "slide"
    },
    "tags": []
   },
   "source": [
    "### `line_profiler` - even more details 🔬\n",
    "\n",
    "- `cProfile` (`%prun`) told us how many times we called each function and how much time we spent in it.\n",
    "- Let's say we found a function that costs us most time. However, that function has 1000s of lines. 😱\n",
    "- What lines are most computationally-expensive?\n",
    "- For that, we use `line_profiler`\n",
    "    - It is not part of the standard library: install it using `pip install line_profiler`\n",
    "    - activate the extension with `%load_ext line_profiler`"
   ]
  },
  {
   "cell_type": "code",
   "execution_count": 2,
   "metadata": {
    "editable": true,
    "slideshow": {
     "slide_type": ""
    },
    "tags": []
   },
   "outputs": [],
   "source": [
    "%load_ext line_profiler"
   ]
  },
  {
   "cell_type": "markdown",
   "metadata": {
    "editable": true,
    "slideshow": {
     "slide_type": "slide"
    },
    "tags": []
   },
   "source": [
    "### Example: Line-profiling of Monte Carlo `estimate_pi` simulation\n",
    "\n",
    "We will line-profile by running `%lprun -f estimate_pi estimate_pi(10000)`:\n",
    "- `%lprun` - `line_profiler`'s magic ✨\n",
    "- `-f estimate_pi` - we say that we want to inspect the lines inside `function`\n",
    "- `estimate_pi(10000)` - The function call as the argument. This is the code that will be executed to profile."
   ]
  },
  {
   "cell_type": "code",
   "execution_count": 7,
   "metadata": {
    "editable": true,
    "slideshow": {
     "slide_type": "slide"
    },
    "tags": []
   },
   "outputs": [
    {
     "data": {
      "text/plain": [
       "Timer unit: 1e-09 s\n",
       "\n",
       "Total time: 0.031113 s\n",
       "File: /var/folders/_r/hp8lx4b965xb64yt3h9m6m9m0000gp/T/ipykernel_31980/1621011123.py\n",
       "Function: estimate_pi at line 1\n",
       "\n",
       "Line #      Hits         Time  Per Hit   % Time  Line Contents\n",
       "==============================================================\n",
       "     1                                           def estimate_pi(n):\n",
       "     2                                               \"\"\"Estimate the value of pi using Monte Carlo simulation.\n",
       "     3                                           \n",
       "     4                                               Parameters\n",
       "     5                                               ----------\n",
       "     6                                               n : int\n",
       "     7                                                   The number of random points generated.\n",
       "     8                                           \n",
       "     9                                               Returns\n",
       "    10                                               -------\n",
       "    11                                               float\n",
       "    12                                                   An estimate of pi.\n",
       "    13                                           \n",
       "    14                                               \"\"\"\n",
       "    15         1     909000.0 909000.0      2.9      x_list = random_list(n)\n",
       "    16         1     841000.0 841000.0      2.7      y_list = random_list(n)\n",
       "    17                                           \n",
       "    18         1       1000.0   1000.0      0.0      in_circle = 0\n",
       "    19     10001    4983000.0    498.3     16.0      for x, y in zip(x_list, y_list):\n",
       "    20     10000   19653000.0   1965.3     63.2          if distance(x, y) <= 1:\n",
       "    21      7840    4725000.0    602.7     15.2              in_circle += 1\n",
       "    22                                           \n",
       "    23         1       1000.0   1000.0      0.0      return 4 * in_circle / n"
      ]
     },
     "metadata": {},
     "output_type": "display_data"
    }
   ],
   "source": [
    "%lprun -f estimate_pi estimate_pi(10000)"
   ]
  },
  {
   "cell_type": "markdown",
   "metadata": {
    "editable": true,
    "slideshow": {
     "slide_type": "slide"
    },
    "tags": []
   },
   "source": [
    "### What are all those columns `%lprun` gave me?\n",
    "\n",
    "- **Line Number**: The line number in the function.\n",
    "- **Hits**: Number of times the line was executed.\n",
    "- **Time**: Total time spent executing the line (in microseconds).\n",
    "- **Per Hit**: Average time per execution of the line.\n",
    "- **Time**: Percentage of the total time spent on that line."
   ]
  },
  {
   "cell_type": "markdown",
   "metadata": {
    "editable": true,
    "slideshow": {
     "slide_type": "slide"
    },
    "tags": []
   },
   "source": [
    "### Profiling summary\n",
    "\n",
    "- Slowly increase the level of granularity: `%timeit` $\\rightarrow$ `%prun` $\\rightarrow$ `%lprun`\n",
    "- Profiling is a crucial step in performance optimisation.\n",
    "- It helps identify where to focus your efforts for maximum impact: We do not want to optimise everything!\n",
    "- Be mindful of the overhead and use profiling to guide targeted optimizations."
   ]
  },
  {
   "cell_type": "markdown",
   "metadata": {
    "editable": true,
    "slideshow": {
     "slide_type": "slide"
    },
    "tags": []
   },
   "source": [
    "## Algorithms 🧠"
   ]
  },
  {
   "cell_type": "markdown",
   "metadata": {
    "editable": true,
    "slideshow": {
     "slide_type": "slide"
    },
    "tags": []
   },
   "source": [
    "### What is an algorithm?\n",
    "\n",
    "- Algorithm is a step-by-step procedure to solve a particular problem (a fancy word for **recipe** 👩‍🍳)\n",
    "- Algorithm is an explicit, precise, finite, and deterministic problem-solving method that can be implemented as a computer program.\n",
    "- Very often, algorithm is independent from the programming language."
   ]
  },
  {
   "cell_type": "markdown",
   "metadata": {
    "editable": true,
    "slideshow": {
     "slide_type": "slide"
    },
    "tags": []
   },
   "source": [
    "### Characteristics of an algorithm\n",
    "\n",
    "- **Precise and unambigous**: Clear in all aspects. Every step must mean only one thing.\n",
    "- **Well-defined inputs**: Expected inputs (zero or more) must be clearly explained.\n",
    "- **Well-defined outputs**: The output (one or more) of the algorithm must be well defined.\n",
    "- **Finite**: The algorithm must terminate after a finite time.\n",
    "- **Feasible**: Implementation must be possible with the available resources.\n",
    "- **Language independent**: Ideally, it should not contain language-specific features.\n",
    "- **(Deterministic)**: It gives the same output for same inputs."
   ]
  },
  {
   "cell_type": "markdown",
   "metadata": {
    "editable": true,
    "slideshow": {
     "slide_type": "slide"
    },
    "tags": []
   },
   "source": [
    "### Analysis of Algorithms\n",
    "\n",
    "- For an algorithm to be **feasible**, its implementation must be possible with the available resources (laptop, HPC cluster, Raspberry Pi, etc.).\n",
    "- Analysing the algorithm usually means answering the following two questions:\n",
    "    1. How long will it take for my code to run? (**time complexity**)\n",
    "    2. Will my code run out of memory? (**space complexity**)"
   ]
  },
  {
   "cell_type": "markdown",
   "metadata": {
    "editable": true,
    "slideshow": {
     "slide_type": "slide"
    },
    "tags": []
   },
   "source": [
    "### Time complexity\n",
    "\n",
    "- Computations are almost always **iterative** - we perform the same operation on all elements of a sequence, NumPy array, Pandas DataFrame, etc.\n",
    "- The total running time depends on:\n",
    "    - the time it takes for each iteration to execute (**profiling** we talked about earlier)\n",
    "    - the number of iterations (**big O** we will talk about now)"
   ]
  },
  {
   "cell_type": "markdown",
   "metadata": {
    "editable": true,
    "slideshow": {
     "slide_type": "slide"
    },
    "tags": []
   },
   "source": [
    "### Big O\n",
    "\n",
    "**Big O** notation, represented as $O(f(n))$, describes an upper bound on the time or space complexity of an algorithm.\n",
    "\n",
    "- $n$: the size of the input, e.g., the number of elements in the NumPy array or the number of rows in Pandas DataFrame.\n",
    "- $f(n)$: a function describing how the execution time grows as the input size $n$ increases.\n",
    "- The notation $O(f(n))$ captures the asymptotic behaviour of the function, meaning we care about what happens as $n \\rightarrow \\infty$."
   ]
  },
  {
   "cell_type": "markdown",
   "metadata": {
    "editable": true,
    "jp-MarkdownHeadingCollapsed": true,
    "slideshow": {
     "slide_type": "slide"
    },
    "tags": []
   },
   "source": [
    "### A bit more about BigO...\n",
    "\n",
    "1. **Upper Bound**: Big O gives an upper bound on the growth rate of an algorithm. For example, if an algorithm has a time complexity of $O(n^2)$, it means that, in the worst-case scenario, the running time grows no faster than $n^2$ as $n$ increases. This does not mean the running time will always be exactly $n^2$, just that it won’t grow faster than $n^2$.\n",
    "\n",
    "2. **Asymptotic Analysis**: Big O notation focuses on the behavior of the function as $n \\to \\infty$. It ignores constant factors and lower-order terms because they have minimal impact on the growth rate for large $n$. For example, $O(3n^2 + 5n + 7)$ simplifies to $O(n^2)$ because $n^2$ dominates the function as $n$ grows larger.\n",
    "\n",
    "3. **Dominant Term**: In Big O notation, only the most significant term (the one that grows the fastest as $n \\to \\infty$) is considered, and any coefficients are dropped ($O(3n^2 + 5n + 7)$ simplifies to $O(n^2)$). This simplifies comparisons between algorithms by focusing only on the term that has the largest impact on performance as the input size grows."
   ]
  },
  {
   "cell_type": "markdown",
   "metadata": {
    "editable": true,
    "slideshow": {
     "slide_type": "slide"
    },
    "tags": []
   },
   "source": [
    "### Some common Big Os\n",
    "\n",
    "- **$O(1)$** — *Constant Time*: The algorithm's runtime doesn’t change with the input size. Example: accessing an element in an array: `seq[i]`\n",
    "- **$O(n)$** — *Linear Time*: The runtime grows linearly with the input size. Example: iterating through an array or marking exams.\n",
    "- **$O(n^2)$** — *Quadratic Time*: The runtime grows with the square of the input size. Example: nested for loops - comparing each student with every other student in the class.\n",
    "- **$O(\\log n)$** — *Logarithmic Time*: The runtime grows logarithmically with the input size. Example: binary search - finding a word in a dictionary.\n",
    "- **$O(n \\log n)$** — *Linearithmic Time*: The runtime grows in proportion to $n \\times \\log n$. Example: efficient sorting algorithms like merge sort.\n",
    "- **$O(2^n)$** — *Exponential Time*: The runtime doubles with each additional input element. Example: recursive algorithms for the Fibonacci sequence without memoisation (we will look at that example later)."
   ]
  },
  {
   "cell_type": "markdown",
   "metadata": {
    "editable": true,
    "slideshow": {
     "slide_type": "slide"
    },
    "tags": []
   },
   "source": [
    "### How do Big Os compare?\n",
    "\n",
    "<div>\n",
    "<center>\n",
    "    <img src=\"images/big-o.png\" width=\"600\" alt=\"big-O\" />\n",
    "</center>\n",
    "</div>\n",
    "\n",
    "[R. Shrestha. [The Big-Oh (O)— A beginners guide](https://articles.wesionary.team/the-big-oh-o-a-beginners-guide-a4c48af39bfa) (2023)]"
   ]
  },
  {
   "cell_type": "markdown",
   "metadata": {
    "editable": true,
    "slideshow": {
     "slide_type": "slide"
    },
    "tags": []
   },
   "source": [
    "### Examples of different Big Os 🤓\n",
    "\n",
    "Please play with the examples only after you complete everything else in this lecture."
   ]
  },
  {
   "cell_type": "markdown",
   "metadata": {
    "editable": true,
    "slideshow": {
     "slide_type": "slide"
    },
    "tags": []
   },
   "source": [
    "#### $O(\\log N)$: binary search\n",
    "\n",
    "Binary search is an efficient algorithm for finding an element in a sorted sequence. It works by repeatedly dividing the search interval in half:\n",
    "\n",
    "1. Compare the target element `x` with the middle element of the sequence.\n",
    "2. If the middle element is equal to `x`, the search is successful, and the index of the middle element is returned.\n",
    "3. If `x` is greater than the middle element, the search continues in the right half of the sequence.\n",
    "4. If `x` is less than the middle element, the search continues in the left half of the sequence.\n",
    "5. This process is repeated on the new half until the target element is found or the search interval is empty."
   ]
  },
  {
   "cell_type": "code",
   "execution_count": 8,
   "metadata": {
    "editable": true,
    "slideshow": {
     "slide_type": "slide"
    },
    "tags": []
   },
   "outputs": [],
   "source": [
    "def binary_search(arr, target):\n",
    "    \"\"\"\n",
    "    Perform binary search on a sorted array to find the target value and count comparisons.\n",
    "\n",
    "    Parameters\n",
    "    ----------\n",
    "    arr : list of int\n",
    "        The sorted array to search.\n",
    "    target : int\n",
    "        The value to search for.\n",
    "\n",
    "    Returns\n",
    "    -------\n",
    "    tuple\n",
    "        A tuple containing the index of the target value if found (otherwise -1) and the number of comparisons made.\n",
    "    \"\"\"\n",
    "    left, right = 0, len(arr) - 1\n",
    "    comparisons = 0\n",
    "    while left <= right:\n",
    "        comparisons += 1\n",
    "        mid = (left + right) // 2\n",
    "        if arr[mid] == target:\n",
    "            return mid, comparisons\n",
    "        elif arr[mid] < target:\n",
    "            left = mid + 1\n",
    "        else:\n",
    "            right = mid - 1\n",
    "    return -1, comparisons"
   ]
  },
  {
   "cell_type": "code",
   "execution_count": 10,
   "metadata": {
    "editable": true,
    "slideshow": {
     "slide_type": "slide"
    },
    "tags": []
   },
   "outputs": [
    {
     "data": {
      "image/png": "[encoded data removed]",
      "text/plain": [
       "<Figure size 600x400 with 1 Axes>"
      ]
     },
     "metadata": {},
     "output_type": "display_data"
    }
   ],
   "source": [
    "import numpy as np\n",
    "import seaborn as sns\n",
    "import matplotlib.pyplot as plt\n",
    "\n",
    "sns.set_context(\"talk\")  # Larger font sizes for presentations # 调整字体大小等参数\n",
    "sns.set_style(\"whitegrid\") # 设置背景样式\n",
    "\n",
    "n_values = np.arange(1, 1001)\n",
    "iterations = [binary_search(list(range(n)), -1)[1] for n in n_values]\n",
    "\n",
    "plt.figure(figsize=(6, 4))\n",
    "plt.plot(n_values, iterations)\n",
    "plt.xlabel(r\"$N$\")\n",
    "plt.ylabel(r\"$N_\\mathrm{iter}$\")\n",
    "plt.grid(True)\n",
    "plt.show()"
   ]
  },
  {
   "cell_type": "markdown",
   "metadata": {
    "editable": true,
    "slideshow": {
     "slide_type": "slide"
    },
    "tags": []
   },
   "source": [
    "#### $O(N)$: Search for a maximum\n",
    "\n",
    "Maximum search is a straightforward algorithm for finding the largest element in a sequence.\n",
    "\n",
    "1. Start by assuming the first element in the sequence is the maximum.\n",
    "2. Iterate through each element in the sequence.\n",
    "3. For each element, compare it with the current assumed maximum.\n",
    "4. If the current element is greater than the assumed maximum, update the assumed maximum to this new element.\n",
    "5. Continue this process until all elements in the sequence have been compared.\n",
    "6. By the end of the iteration, the assumed maximum will be the largest element in the sequence."
   ]
  },
  {
   "cell_type": "code",
   "execution_count": 11,
   "metadata": {
    "editable": true,
    "slideshow": {
     "slide_type": "slide"
    },
    "tags": []
   },
   "outputs": [],
   "source": [
    "def find_maximum(seq):\n",
    "    \"\"\"\n",
    "    Find the maximum value in a sequence and count the number of iterations.\n",
    "\n",
    "    Parameters\n",
    "    ----------\n",
    "    seq : list of int\n",
    "        The sequence to search.\n",
    "\n",
    "    Returns\n",
    "    -------\n",
    "    tuple\n",
    "        A tuple containing the maximum value in the sequence and the number of iterations.\n",
    "    \"\"\"\n",
    "    current_max = seq[0]\n",
    "    iterations = 0\n",
    "    for i in seq:\n",
    "        iterations += 1\n",
    "        if i > current_max:\n",
    "            current_max = i\n",
    "    return current_max, iterations"
   ]
  },
  {
   "cell_type": "code",
   "execution_count": 12,
   "metadata": {
    "editable": true,
    "slideshow": {
     "slide_type": "slide"
    },
    "tags": []
   },
   "outputs": [
    {
     "data": {
      "image/png": "[encoded data removed]",
      "text/plain": [
       "<Figure size 600x400 with 1 Axes>"
      ]
     },
     "metadata": {},
     "output_type": "display_data"
    }
   ],
   "source": [
    "n_values = np.arange(1, 1001, 100)\n",
    "iterations = []\n",
    "\n",
    "for n in n_values:\n",
    "    seq = list(range(n))\n",
    "    _, iter_count = find_maximum(seq)\n",
    "    iterations.append(iter_count)\n",
    "\n",
    "plt.figure(figsize=(6, 4))\n",
    "plt.plot(n_values, iterations)\n",
    "plt.xlabel(r\"$N$\")\n",
    "plt.ylabel(r\"$N_\\mathrm{iter}$\")\n",
    "plt.grid(True)\n",
    "plt.show()"
   ]
  },
  {
   "cell_type": "markdown",
   "metadata": {
    "editable": true,
    "slideshow": {
     "slide_type": "slide"
    },
    "tags": []
   },
   "source": [
    "#### $O(N^{2})$: Look for all pairs (nested for loops)\n",
    "\n",
    "The `find_pairs_with_sum` function finds all pairs of elements in a 1D sequence that sum up to a specific target value.\n",
    "\n",
    "1. Initialize an empty list to store the pairs and a counter for the number of iterations.\n",
    "2. Iterate through each element in the sequence using an outer loop.\n",
    "3. For each element in the outer loop, iterate through the subsequent elements using an inner loop.\n",
    "4. For each pair of elements, check if their sum equals the target value.\n",
    "5. If the sum equals the target value, add the pair to the list of pairs.\n",
    "6. Increment the iteration counter for each pair checked.\n",
    "7. Continue this process until all pairs have been checked.\n",
    "8. Return the list of pairs and the number of iterations."
   ]
  },
  {
   "cell_type": "code",
   "execution_count": 13,
   "metadata": {
    "editable": true,
    "slideshow": {
     "slide_type": "slide"
    },
    "tags": []
   },
   "outputs": [],
   "source": [
    "def find_pairs_with_sum(seq, target):\n",
    "    \"\"\"\n",
    "    Find all pairs of elements in the sequence that sum up to the target value and count the number of iterations.\n",
    "\n",
    "    Parameters\n",
    "    ----------\n",
    "    seq : list of int\n",
    "        The sequence to search.\n",
    "    target : int\n",
    "        The target sum value.\n",
    "\n",
    "    Returns\n",
    "    -------\n",
    "    tuple\n",
    "        A tuple containing the list of pairs and the number of iterations.\n",
    "    \"\"\"\n",
    "    pairs = []\n",
    "    iterations = 0\n",
    "    for i in range(len(seq)):\n",
    "        for j in range(i + 1, len(seq)):\n",
    "            iterations += 1\n",
    "            if seq[i] + seq[j] == target:\n",
    "                pairs.append((seq[i], seq[j]))\n",
    "    return pairs, iterations"
   ]
  },
  {
   "cell_type": "code",
   "execution_count": 14,
   "metadata": {
    "editable": true,
    "slideshow": {
     "slide_type": "slide"
    },
    "tags": []
   },
   "outputs": [
    {
     "data": {
      "image/png": "[encoded data removed]",
      "text/plain": [
       "<Figure size 600x400 with 1 Axes>"
      ]
     },
     "metadata": {},
     "output_type": "display_data"
    }
   ],
   "source": [
    "n_values = np.arange(1, 501, 10)\n",
    "iterations = []\n",
    "\n",
    "for n in n_values:\n",
    "    seq = list(range(n))\n",
    "    _, iter_count = find_pairs_with_sum(\n",
    "        seq, n\n",
    "    )  # Use n as the target to ensure some pairs exist\n",
    "    iterations.append(iter_count)\n",
    "\n",
    "plt.figure(figsize=(6, 4))\n",
    "plt.plot(n_values, iterations)\n",
    "plt.xlabel(r\"$N$\")\n",
    "plt.ylabel(r\"$N_\\mathrm{iter}$\")\n",
    "plt.grid(True)\n",
    "plt.show()"
   ]
  },
  {
   "cell_type": "markdown",
   "metadata": {
    "editable": true,
    "slideshow": {
     "slide_type": "slide"
    },
    "tags": []
   },
   "source": [
    "#### $O(N\\log N)$: merge sort\n",
    "\n",
    "Merge sort is a divide-and-conquer algorithm used to sort a sequence of elements.\n",
    "\n",
    "1. **Divide**: Recursively divide the sequence into two halves until each sub-sequence contains a single element.\n",
    "2. **Conquer**: Sort each sub-sequence. Since each sub-sequence contains only one element, they are already sorted.\n",
    "3. **Merge**: Merge the sorted sub-sequences to produce new sorted sequences until a single sorted sequence is obtained."
   ]
  },
  {
   "cell_type": "code",
   "execution_count": 15,
   "metadata": {
    "editable": true,
    "slideshow": {
     "slide_type": "slide"
    },
    "tags": []
   },
   "outputs": [],
   "source": [
    "def merge_sort(arr):\n",
    "    \"\"\"\n",
    "    Sort an array using the merge sort algorithm and count the number of operations.\n",
    "\n",
    "    Parameters\n",
    "    ----------\n",
    "    arr : list of int\n",
    "        The array to sort.\n",
    "\n",
    "    Returns\n",
    "    -------\n",
    "    tuple\n",
    "        A tuple containing the sorted array and the number of operations.\n",
    "    \"\"\"\n",
    "    if len(arr) <= 1:\n",
    "        return arr, 0\n",
    "\n",
    "    mid = len(arr) // 2\n",
    "    left, left_ops = merge_sort(arr[:mid])\n",
    "    right, right_ops = merge_sort(arr[mid:])\n",
    "    merged, merge_ops = merge(left, right)\n",
    "\n",
    "    return merged, left_ops + right_ops + merge_ops"
   ]
  },
  {
   "cell_type": "code",
   "execution_count": 16,
   "metadata": {
    "editable": true,
    "slideshow": {
     "slide_type": "slide"
    },
    "tags": []
   },
   "outputs": [],
   "source": [
    "def merge(left, right):\n",
    "    \"\"\"\n",
    "    Merge two sorted arrays and count the number of operations.\n",
    "\n",
    "    Parameters\n",
    "    ----------\n",
    "    left : list of int\n",
    "        The left sorted array.\n",
    "    right : list of int\n",
    "        The right sorted array.\n",
    "\n",
    "    Returns\n",
    "    -------\n",
    "    tuple\n",
    "        A tuple containing the merged sorted array and the number of operations.\n",
    "    \"\"\"\n",
    "    result = []\n",
    "    i = j = 0\n",
    "    operations = 0\n",
    "\n",
    "    while i < len(left) and j < len(right):\n",
    "        operations += 1\n",
    "        if left[i] < right[j]:\n",
    "            result.append(left[i])\n",
    "            i += 1\n",
    "        else:\n",
    "            result.append(right[j])\n",
    "            j += 1\n",
    "\n",
    "    result.extend(left[i:])\n",
    "    result.extend(right[j:])\n",
    "    operations += len(left) - i + len(right) - j\n",
    "\n",
    "    return result, operations"
   ]
  },
  {
   "cell_type": "code",
   "execution_count": 17,
   "metadata": {
    "editable": true,
    "slideshow": {
     "slide_type": "slide"
    },
    "tags": []
   },
   "outputs": [
    {
     "data": {
      "image/png": "[encoded data removed]",
      "text/plain": [
       "<Figure size 600x400 with 1 Axes>"
      ]
     },
     "metadata": {},
     "output_type": "display_data"
    }
   ],
   "source": [
    "n_values = np.arange(1, 10001, 100)\n",
    "iterations = []\n",
    "\n",
    "for n in n_values:\n",
    "    arr = list(range(n, 0, -1))  # Reverse sorted array to ensure worst-case scenario\n",
    "    _, ops_count = merge_sort(arr)\n",
    "    iterations.append(ops_count)\n",
    "\n",
    "plt.figure(figsize=(6, 4))\n",
    "plt.plot(n_values, iterations)\n",
    "plt.xlabel(r\"$N$\")\n",
    "plt.ylabel(r\"$N_\\mathrm{iter}$\")\n",
    "plt.grid(True)\n",
    "plt.show()"
   ]
  },
  {
   "cell_type": "markdown",
   "metadata": {
    "editable": true,
    "slideshow": {
     "slide_type": "slide"
    },
    "tags": []
   },
   "source": [
    "## Optimisation 🚀"
   ]
  },
  {
   "cell_type": "markdown",
   "metadata": {
    "editable": true,
    "slideshow": {
     "slide_type": "slide"
    },
    "tags": []
   },
   "source": [
    "*“Premature optimisation is the root of all evil”* - [Sir Tony Hoare](https://en.wikipedia.org/wiki/Tony_Hoare) (or [Donald Knuth](https://en.wikipedia.org/wiki/Donald_Knuth))"
   ]
  },
  {
   "cell_type": "markdown",
   "metadata": {
    "editable": true,
    "slideshow": {
     "slide_type": "slide"
    },
    "tags": []
   },
   "source": [
    "### When we (should) optimise\n",
    "\n",
    "1. **Make it work**: Write the code in a simple, readable, and maintainable way. **Correct first, fast later!**\n",
    "2. **Make it reliable**: Write tests so if we break the code optimising, we'll find out.\n",
    "3. **Profile, profile, profile**: Measure the performance, **do not guess**!\n",
    "4. **Convince yourself that the code is too slow**: Does it really hurt if it's \"too\" slow? Is my use case realistic?\n",
    "5. **Consider the costs of optimisation**: Hardware is cheaper than the developer's time. 🤑 How much will readability suffer?\n",
    "$$...$$\n",
    "...**Optimise**"
   ]
  },
  {
   "cell_type": "markdown",
   "metadata": {
    "editable": true,
    "slideshow": {
     "slide_type": "slide"
    },
    "tags": []
   },
   "source": [
    "### Algorithmic optimisation\n",
    "\n",
    "Generally, it should be the first thing to look for: Is there a way to compute less?\n",
    "  - Is there an algorithm with a different big O?\n",
    "  - Can I rearrange my equation/formula to compute less? Good old pen and paper approach.\n",
    "  - Is there a different data structure which is more appropriate?"
   ]
  },
  {
   "cell_type": "markdown",
   "metadata": {
    "slideshow": {
     "slide_type": "slide"
    }
   },
   "source": [
    "### Same Task, Different Big-O: Fast Exponentiation (Modular)\n",
    "\n",
    "Compute the modular power $a^n \\bmod m$ - the remainder of $a^n$ when divided by $m$.\n",
    "\n",
    "We’ll compare two correct algorithms:\n",
    "\n",
    "- **Naive repeated multiplication** — multiply by $a$ exactly $n$ times and take modulo each time.  \n",
    "  This is $O(n)$.\n",
    "- **Exponentiation by squaring** — use the identities  \n",
    "  if $n$ is even: $a^n = (a^{n/2})^2$; if $n$ is odd: $a^n = a \\cdot a^{n-1}$.  \n",
    "  This reduces the number of multiplications to $O(\\log n)$."
   ]
  },
  {
   "cell_type": "markdown",
   "metadata": {
    "slideshow": {
     "slide_type": "slide"
    }
   },
   "source": [
    "#### Implementation 1: $O(n)$"
   ]
  },
  {
   "cell_type": "code",
   "execution_count": 18,
   "metadata": {},
   "outputs": [],
   "source": [
    "def powmod_slow(a, n, m):\n",
    "    \"\"\"Naive O(n) modular exponentiation: multiply n times.\"\"\"\n",
    "    res = 1 % m\n",
    "    base = a % m\n",
    "    for _ in range(n):\n",
    "        res = (res * base) % m\n",
    "    return res"
   ]
  },
  {
   "cell_type": "markdown",
   "metadata": {
    "slideshow": {
     "slide_type": "slide"
    }
   },
   "source": [
    "#### Implementation 2: $O(\\log n)$"
   ]
  },
  {
   "cell_type": "code",
   "execution_count": 19,
   "metadata": {},
   "outputs": [],
   "source": [
    "def powmod_fast(a, n, m):\n",
    "    \"\"\"Fast O(log n) modular exponentiation (binary exponentiation).\"\"\"\n",
    "    res = 1 % m\n",
    "    base = a % m\n",
    "    e = n\n",
    "    while e > 0:\n",
    "        if e & 1:\n",
    "            res = (res * base) % m\n",
    "        base = (base * base) % m\n",
    "        e //= 2\n",
    "    return res"
   ]
  },
  {
   "cell_type": "markdown",
   "metadata": {
    "slideshow": {
     "slide_type": "slide"
    }
   },
   "source": [
    "#### How much faster?"
   ]
  },
  {
   "cell_type": "code",
   "execution_count": 20,
   "metadata": {},
   "outputs": [
    {
     "name": "stdout",
     "output_type": "stream",
     "text": [
      "37 ms ± 1.6 ms per loop (mean ± std. dev. of 7 runs, 10 loops each)\n",
      "1.48 μs ± 6.9 ns per loop (mean ± std. dev. of 7 runs, 1,000,000 loops each)\n",
      "Fast modular exponentiation is 25024.16 times faster than naive implementation\n"
     ]
    }
   ],
   "source": [
    "t_powmod_slow = %timeit -o powmod_slow(5, 1_000_000, 1_000_000_007)\n",
    "t_powmod_fast = %timeit -o powmod_fast(5, 1_000_000, 1_000_000_007)\n",
    "\n",
    "ratio = t_powmod_slow.average / t_powmod_fast.average\n",
    "print(f\"Fast modular exponentiation is {ratio:.2f} times faster than naive implementation\")"
   ]
  },
  {
   "cell_type": "markdown",
   "metadata": {
    "slideshow": {
     "slide_type": "slide"
    }
   },
   "source": [
    "### Compute less: Pen-and-paper optimisation\n",
    "\n",
    "**Algebraic simplification alone** - no libraries, no NumPy, no tricks - can make a big difference in performance.\n",
    "\n",
    "We want to compute the following 7th-degree polynomial:\n",
    "\n",
    "$$\n",
    "P(x) = 3x^7 - 5x^6 + 2x^5 - x^4 + 7x^3 - 4x^2 + 6x - 8\n",
    "$$\n",
    "\n",
    "Using pen and paper, we can **rewrite** the same expression to reuse intermediate results - **Horner’s method**:\n",
    "\n",
    "$$\n",
    "P(x) = (((((((3x - 5)x + 2)x - 1)x + 7)x - 4)x + 6)x - 8)\n",
    "$$\n",
    "\n",
    "This form dramatically reduces the number of operations (no explicit powers, just multiplications and additions)."
   ]
  },
  {
   "cell_type": "markdown",
   "metadata": {
    "slideshow": {
     "slide_type": "slide"
    }
   },
   "source": [
    "#### Implementation 1: Literal evaluation of the polynomial"
   ]
  },
  {
   "cell_type": "code",
   "execution_count": 21,
   "metadata": {},
   "outputs": [],
   "source": [
    "def poly_slow(x):\n",
    "    \"\"\"Literal evaluation of P(x) = 3x⁷ - 5x⁶ + 2x⁵ - x⁴ + 7x³ - 4x² + 6x - 8\"\"\"\n",
    "    return (\n",
    "        3 * (x**7)\n",
    "        - 5 * (x**6)\n",
    "        + 2 * (x**5)\n",
    "        - (x**4)\n",
    "        + 7 * (x**3)\n",
    "        - 4 * (x**2)\n",
    "        + 6 * x\n",
    "        - 8\n",
    "    )"
   ]
  },
  {
   "cell_type": "markdown",
   "metadata": {
    "slideshow": {
     "slide_type": "slide"
    }
   },
   "source": [
    "#### Implementation 2: Using Horner's method"
   ]
  },
  {
   "cell_type": "code",
   "execution_count": 22,
   "metadata": {},
   "outputs": [],
   "source": [
    "def poly_fast(x):\n",
    "    \"\"\"Optimised evaluation of the same polynomial using Horner’s method\"\"\"\n",
    "    y = 3\n",
    "    y = y * x - 5\n",
    "    y = y * x + 2\n",
    "    y = y * x - 1\n",
    "    y = y * x + 7\n",
    "    y = y * x - 4\n",
    "    y = y * x + 6\n",
    "    y = y * x - 8\n",
    "    return y\n",
    "\n",
    "\n",
    "assert poly_slow(5) == poly_fast(5)"
   ]
  },
  {
   "cell_type": "markdown",
   "metadata": {
    "slideshow": {
     "slide_type": "slide"
    }
   },
   "source": [
    "#### How much faster is the code using Horner's method?"
   ]
  },
  {
   "cell_type": "code",
   "execution_count": 23,
   "metadata": {},
   "outputs": [
    {
     "name": "stdout",
     "output_type": "stream",
     "text": [
      "284 ns ± 4.33 ns per loop (mean ± std. dev. of 7 runs, 1,000,000 loops each)\n",
      "158 ns ± 0.23 ns per loop (mean ± std. dev. of 7 runs, 10,000,000 loops each)\n",
      "Speedup: 1.8x\n"
     ]
    }
   ],
   "source": [
    "t_poly_slow = %timeit -o poly_slow(5)\n",
    "t_poly_fast = %timeit -o poly_fast(5)\n",
    "\n",
    "print(f\"Speedup: {t_poly_slow.average / t_poly_fast.average:.1f}x\")"
   ]
  },
  {
   "cell_type": "markdown",
   "metadata": {
    "editable": true,
    "slideshow": {
     "slide_type": "slide"
    },
    "tags": []
   },
   "source": [
    "### Select better data structure"
   ]
  },
  {
   "cell_type": "code",
   "execution_count": 24,
   "metadata": {
    "editable": true,
    "slideshow": {
     "slide_type": "-"
    },
    "tags": []
   },
   "outputs": [
    {
     "name": "stdout",
     "output_type": "stream",
     "text": [
      "65.6 ms ± 0 ns per loop (mean ± std. dev. of 1 run, 1 loop each)\n"
     ]
    }
   ],
   "source": [
    "import numpy as np\n",
    "\n",
    "x = np.random.randint(0, 100, 1000)\n",
    "y = np.random.randint(0, 100, 1000)\n",
    "\n",
    "\n",
    "def find_common_loops(x, y):\n",
    "    \"\"\"Find common elements in arrays x and y.\"\"\"\n",
    "    res = []\n",
    "    for i in x:\n",
    "        for j in y:\n",
    "            if i == j and i not in res:\n",
    "                res.append(i)\n",
    "    return res\n",
    "#O(n^2)    \n",
    "\n",
    "%timeit -n 1 -r 1 find_common_loops(x, y)"
   ]
  },
  {
   "cell_type": "markdown",
   "metadata": {
    "editable": true,
    "slideshow": {
     "slide_type": "slide"
    },
    "tags": []
   },
   "source": [
    "If we use sets:"
   ]
  },
  {
   "cell_type": "code",
   "execution_count": 25,
   "metadata": {
    "editable": true,
    "slideshow": {
     "slide_type": "-"
    },
    "tags": []
   },
   "outputs": [
    {
     "name": "stdout",
     "output_type": "stream",
     "text": [
      "49.9 μs ± 208 ns per loop (mean ± std. dev. of 7 runs, 10,000 loops each)\n"
     ]
    }
   ],
   "source": [
    "def find_common_sets(x, y):\n",
    "    return list(set(x) & set(y)) #set集合里自动去重，元素唯一  #求交集\n",
    "\n",
    "\n",
    "%timeit find_common_sets(x, y)"
   ]
  },
  {
   "cell_type": "markdown",
   "metadata": {
    "editable": true,
    "slideshow": {
     "slide_type": "slide"
    },
    "tags": []
   },
   "source": [
    "### Let third-party libraries do the work\n",
    "\n",
    "#### Example: Aggregations"
   ]
  },
  {
   "cell_type": "code",
   "execution_count": 26,
   "metadata": {
    "editable": true,
    "slideshow": {
     "slide_type": "-"
    },
    "tags": []
   },
   "outputs": [],
   "source": [
    "A = np.random.rand(100, 100)\n",
    "\n",
    "\n",
    "def mean_loops(A):\n",
    "    s = 0\n",
    "    for i in range(A.shape[0]):\n",
    "        for j in range(A.shape[1]):\n",
    "            s += A[i, j]\n",
    "    return s / A.size\n",
    "#O(n) 要把每个元素加起来\n",
    "\n",
    "def mean_numpy(A):\n",
    "    return A.mean()  # or np.mean(A)"
   ]
  },
  {
   "cell_type": "code",
   "execution_count": 27,
   "metadata": {
    "editable": true,
    "slideshow": {
     "slide_type": ""
    },
    "tags": []
   },
   "outputs": [
    {
     "name": "stdout",
     "output_type": "stream",
     "text": [
      "641 μs ± 2.36 μs per loop (mean ± std. dev. of 7 runs, 1,000 loops each)\n"
     ]
    }
   ],
   "source": [
    "%timeit mean_loops(A)"
   ]
  },
  {
   "cell_type": "code",
   "execution_count": 28,
   "metadata": {
    "editable": true,
    "slideshow": {
     "slide_type": "-"
    },
    "tags": []
   },
   "outputs": [
    {
     "name": "stdout",
     "output_type": "stream",
     "text": [
      "2.42 μs ± 1.81 ns per loop (mean ± std. dev. of 7 runs, 100,000 loops each)\n"
     ]
    }
   ],
   "source": [
    "%timeit mean_numpy(A)"
   ]
  },
  {
   "cell_type": "markdown",
   "metadata": {
    "editable": true,
    "slideshow": {
     "slide_type": "slide"
    },
    "tags": []
   },
   "source": [
    "#### Example: Matrix-matrix multiplication"
   ]
  },
  {
   "cell_type": "code",
   "execution_count": 29,
   "metadata": {
    "editable": true,
    "slideshow": {
     "slide_type": "-"
    },
    "tags": []
   },
   "outputs": [],
   "source": [
    "import numpy as np\n",
    "\n",
    "A = np.random.rand(100, 100)\n",
    "B = np.random.rand(100, 100)\n",
    "\n",
    "\n",
    "def matmult_loops(A, B):\n",
    "    res = np.zeros((A.shape[0], B.shape[1]))\n",
    "\n",
    "    for i in range(A.shape[0]):\n",
    "        for j in range(B.shape[1]):\n",
    "            for k in range(A.shape[1]):\n",
    "                res[i, j] += A[i, k] * B[k, j]\n",
    "\n",
    "    return res\n",
    "\n",
    "\n",
    "def matmult_numpy(A, B):\n",
    "    return A @ B  # np.matmult(A, B)\n",
    "\n",
    "\n",
    "assert np.allclose(matmult_loops(A, B), matmult_numpy(A, B))"
   ]
  },
  {
   "cell_type": "code",
   "execution_count": 30,
   "metadata": {
    "editable": true,
    "slideshow": {
     "slide_type": "slide"
    },
    "tags": []
   },
   "outputs": [
    {
     "name": "stdout",
     "output_type": "stream",
     "text": [
      "185 ms ± 1.01 ms per loop (mean ± std. dev. of 7 runs, 1 loop each)\n"
     ]
    }
   ],
   "source": [
    "%timeit matmult_loops(A, B)"
   ]
  },
  {
   "cell_type": "code",
   "execution_count": 31,
   "metadata": {
    "editable": true,
    "slideshow": {
     "slide_type": "-"
    },
    "tags": []
   },
   "outputs": [
    {
     "name": "stdout",
     "output_type": "stream",
     "text": [
      "7.98 μs ± 38.9 ns per loop (mean ± std. dev. of 7 runs, 100,000 loops each)\n"
     ]
    }
   ],
   "source": [
    "%timeit matmult_numpy(A, B)"
   ]
  },
  {
   "cell_type": "markdown",
   "metadata": {
    "editable": true,
    "slideshow": {
     "slide_type": "slide"
    },
    "tags": []
   },
   "source": [
    "### Why is NumPy so cool? 😎\n",
    "\n",
    "- Written in a compiled language, allowing faster execution than pure Python.\n",
    "- Python’s interpreted nature is slower; NumPy overcomes this by handling heavy computations outside Python’s interpreter.\n",
    "- Provides high-level syntax with low-level performance.\n",
    "- Array-Based Computing: Optimized for multi-dimensional data structures (arrays), crucial for scientific computing.\n",
    "- Broad Ecosystem Compatibility: Foundational for libraries like SciPy, Pandas, TensorFlow.\n",
    "- Python’s popularity in computational science owes much to NumPy’s ability to process data quickly and efficiently."
   ]
  },
  {
   "cell_type": "markdown",
   "metadata": {
    "editable": true,
    "slideshow": {
     "slide_type": "slide"
    },
    "tags": []
   },
   "source": [
    "### Vectorization and SIMD in NumPy\n",
    "\n",
    "**Vectorization**\n",
    "- Eliminates the need for explicit loops in Python.\n",
    "- Operations apply on entire arrays, rather than element-by-element.\n",
    "- Allows faster execution by taking advantage of compiled code optimizations.\n",
    "\n",
    "**SIMD (Single Instruction, Multiple Data)**\n",
    "- Enables parallel processing at the CPU level.\n",
    "- Executes a single instruction on multiple data points simultaneously.\n",
    "- Reduces processing time significantly for operations on large arrays.\n",
    "\n",
    "Takehome message: **Use NumPy to leverage C's speed, vectorized operations, and SIMD.**"
   ]
  },
  {
   "cell_type": "code",
   "execution_count": 32,
   "metadata": {
    "editable": true,
    "slideshow": {
     "slide_type": "-"
    },
    "tags": []
   },
   "outputs": [
    {
     "name": "stdout",
     "output_type": "stream",
     "text": [
      "1.19 s ± 1.9 ms per loop (mean ± std. dev. of 7 runs, 1 loop each)\n"
     ]
    }
   ],
   "source": [
    "def fibonacci(n):\n",
    "    if n == 0:\n",
    "        return 0\n",
    "    elif n == 1:\n",
    "        return 1\n",
    "    else:\n",
    "        return fibonacci(n - 1) + fibonacci(n - 2)\n",
    "\n",
    "\n",
    "%timeit fibonacci(35)"
   ]
  },
  {
   "cell_type": "code",
   "execution_count": 66,
   "metadata": {},
   "outputs": [
    {
     "name": "stdout",
     "output_type": "stream",
     "text": [
      "2 μs ± 0 ns per loop (mean ± std. dev. of 1 run, 1 loop each)\n",
      "5\n"
     ]
    }
   ],
   "source": [
    "res = dict()\n",
    "\n",
    "def fibonacci(n):\n",
    "    if n in res:\n",
    "        return res[n]\n",
    "    if n == 0:\n",
    "        d[n] = 0\n",
    "        return 0\n",
    "    elif n == 1:\n",
    "        d[n] = 1\n",
    "        return 1\n",
    "    else:\n",
    "        d[n] = fibonacci(n - 1) + fibonacci(n - 2)\n",
    "        return fibonacci(n - 1) + fibonacci(n - 2)\n",
    "\n",
    "%timeit -r 1 -n 1 fibonacci_cached(35)\n",
    "print(fibonacci_cached(5))"
   ]
  },
  {
   "cell_type": "markdown",
   "metadata": {
    "editable": true,
    "slideshow": {
     "slide_type": "slide"
    },
    "tags": []
   },
   "source": [
    "We can use `cache` to save the results of previous calls."
   ]
  },
  {
   "cell_type": "code",
   "execution_count": 33,
   "metadata": {
    "editable": true,
    "slideshow": {
     "slide_type": "-"
    },
    "tags": []
   },
   "outputs": [
    {
     "name": "stdout",
     "output_type": "stream",
     "text": [
      "37.4 μs ± 0 ns per loop (mean ± std. dev. of 1 run, 1 loop each)\n"
     ]
    }
   ],
   "source": [
    "import functools\n",
    "\n",
    "\n",
    "@functools.cache #装饰器：自动保存函数的运行结果，下次用相同的参数时直接返回，不再重新计算\n",
    "def fibonacci_cached(n):\n",
    "    if n == 0:  # There is no 0'th number\n",
    "        return 0\n",
    "    elif n == 1:  # We define the first number as 1\n",
    "        return 1\n",
    "    return fibonacci_cached(n - 1) + fibonacci_cached(n - 2)\n",
    "\n",
    "\n",
    "%timeit -r 1 -n 1 fibonacci_cached(35)  # Run once with caching."
   ]
  },
  {
   "cell_type": "code",
   "execution_count": 34,
   "metadata": {},
   "outputs": [
    {
     "name": "stdout",
     "output_type": "stream",
     "text": [
      "2.17 μs ± 0 ns per loop (mean ± std. dev. of 1 run, 1 loop each)\n"
     ]
    }
   ],
   "source": [
    "%timeit -r 1 -n 1 fibonacci_cached(35)  # Everything should be cached now."
   ]
  },
  {
   "cell_type": "markdown",
   "metadata": {
    "editable": true,
    "slideshow": {
     "slide_type": "slide"
    },
    "tags": []
   },
   "source": [
    "### Exercise 3: Caching\n",
    "\n",
    "In one of the previous exercises, we wrote a function for computing factorial using recursion. Measure how much the performance improves if caching is used. Measure performance for `n=100`."
   ]
  },
  {
   "cell_type": "markdown",
   "metadata": {
    "editable": true,
    "slideshow": {
     "slide_type": "skip"
    },
    "tags": []
   },
   "source": [
    "#### Solution"
   ]
  },
  {
   "cell_type": "code",
   "execution_count": 35,
   "metadata": {
    "editable": true,
    "slideshow": {
     "slide_type": "skip"
    },
    "tags": []
   },
   "outputs": [],
   "source": [
    "import functools\n",
    "\n",
    "\n",
    "def factorial_no_cache(n):\n",
    "    if n == 0:\n",
    "        return 1\n",
    "    else:\n",
    "        return n * factorial_no_cache(n - 1)\n",
    "\n",
    "\n",
    "@functools.cache\n",
    "def factorial_cached(n):\n",
    "    if n == 0:\n",
    "        return 1\n",
    "    else:\n",
    "        return n * factorial_cached(n - 1)"
   ]
  },
  {
   "cell_type": "code",
   "execution_count": 36,
   "metadata": {
    "editable": true,
    "scrolled": true,
    "slideshow": {
     "slide_type": "skip"
    },
    "tags": []
   },
   "outputs": [
    {
     "name": "stdout",
     "output_type": "stream",
     "text": [
      "4.6 μs ± 17.8 ns per loop (mean ± std. dev. of 7 runs, 100,000 loops each)\n"
     ]
    }
   ],
   "source": [
    "%timeit factorial_no_cache(100)"
   ]
  },
  {
   "cell_type": "code",
   "execution_count": 37,
   "metadata": {
    "editable": true,
    "slideshow": {
     "slide_type": "skip"
    },
    "tags": []
   },
   "outputs": [
    {
     "name": "stdout",
     "output_type": "stream",
     "text": [
      "102 μs ± 0 ns per loop (mean ± std. dev. of 1 run, 1 loop each)\n"
     ]
    }
   ],
   "source": [
    "%timeit -r 1 -n 1 factorial_cached(100)  # Run once to cache the results"
   ]
  },
  {
   "cell_type": "code",
   "execution_count": 38,
   "metadata": {},
   "outputs": [
    {
     "name": "stdout",
     "output_type": "stream",
     "text": [
      "2.46 μs ± 0 ns per loop (mean ± std. dev. of 1 run, 1 loop each)\n"
     ]
    }
   ],
   "source": [
    "%timeit -r 1 -n 1 factorial_cached(100)  # After caching, it will be faster"
   ]
  },
  {
   "cell_type": "markdown",
   "metadata": {
    "editable": true,
    "slideshow": {
     "slide_type": "slide"
    },
    "tags": []
   },
   "source": [
    "### Exercise 4: Code optimisation\n",
    "\n",
    "Below is the code for estimating $\\pi$ that we used previously to practice profiling.\n",
    "\n",
    "1. Run the following cell, which measures the wall time for `estimate_pi(1_000_000).`\n",
    "2. Using profiling and optimisation, optimise the code. Make it as fast as you can.How much were you able to reduce the wall time?"
   ]
  },
  {
   "cell_type": "code",
   "execution_count": 39,
   "metadata": {
    "editable": true,
    "slideshow": {
     "slide_type": "skip"
    },
    "tags": []
   },
   "outputs": [
    {
     "name": "stdout",
     "output_type": "stream",
     "text": [
      "180 ms ± 5.14 ms per loop (mean ± std. dev. of 7 runs, 1 loop each)\n"
     ]
    }
   ],
   "source": [
    "def random_list(size):\n",
    "    \"\"\"\n",
    "    Generate a list of random numbers between 0 and 1.\n",
    "\n",
    "    Parameters\n",
    "    ----------\n",
    "    size : int\n",
    "        The number of random numbers to generate.\n",
    "\n",
    "    Returns\n",
    "    -------\n",
    "    list of float\n",
    "        A list of random numbers between 0 and 1.\n",
    "    \"\"\"\n",
    "    return [random.random() for _ in range(size)]\n",
    "\n",
    "\n",
    "def distance(x, y):\n",
    "    \"\"\"\n",
    "    Compute the distance of a point (x, y) from the origin (0, 0).\n",
    "\n",
    "    Parameters\n",
    "    ----------\n",
    "    x : float\n",
    "        The x-coordinate of the point.\n",
    "    y : float\n",
    "        The y-coordinate of the point.\n",
    "\n",
    "    Returns\n",
    "    -------\n",
    "    float\n",
    "        The distance from the origin.\n",
    "    \"\"\"\n",
    "    return (x**2 + y**2) ** 0.5\n",
    "\n",
    "\n",
    "def estimate_pi(n):\n",
    "    \"\"\"Estimate the value of pi using Monte Carlo simulation.\n",
    "\n",
    "    Parameters\n",
    "    ----------\n",
    "    n : int\n",
    "        The number of random points generated.\n",
    "\n",
    "    Returns\n",
    "    -------\n",
    "    float\n",
    "        An estimate of pi.\n",
    "\n",
    "    \"\"\"\n",
    "    x_list = random_list(n)\n",
    "    y_list = random_list(n)\n",
    "\n",
    "    in_circle = 0\n",
    "    for x, y in zip(x_list, y_list):\n",
    "        if distance(x, y) <= 1:\n",
    "            in_circle += 1\n",
    "\n",
    "    return 4 * in_circle / n\n",
    "\n",
    "\n",
    "%timeit estimate_pi(n=1_000_000)"
   ]
  },
  {
   "cell_type": "markdown",
   "metadata": {
    "editable": true,
    "slideshow": {
     "slide_type": "skip"
    },
    "tags": []
   },
   "source": [
    "#### Solution\n",
    "\n",
    "This is an open ended problem. There are a lot of possible solutions. The solution I am giving you is just one of them.\n",
    "\n",
    "(If you managed to speed up your code more than 10 times, you did a great job!)"
   ]
  },
  {
   "cell_type": "code",
   "execution_count": 40,
   "metadata": {
    "editable": true,
    "slideshow": {
     "slide_type": "skip"
    },
    "tags": []
   },
   "outputs": [
    {
     "name": "stdout",
     "output_type": "stream",
     "text": [
      "6.72 ms ± 107 μs per loop (mean ± std. dev. of 7 runs, 100 loops each)\n"
     ]
    }
   ],
   "source": [
    "import numpy as np\n",
    "\n",
    "\n",
    "def estimate_pi(n):\n",
    "    \"\"\"Estimate the value of pi using Monte Carlo simulation.\n",
    "\n",
    "    Parameters\n",
    "    ----------\n",
    "    n : int\n",
    "        The number of random points generated.\n",
    "\n",
    "    Returns\n",
    "    -------\n",
    "    float\n",
    "        An estimate of pi.\n",
    "\n",
    "    \"\"\"\n",
    "    x = 2 * np.random.rand(n) - 1 #范围变成 [-1, 1)\n",
    "    y = 2 * np.random.rand(n) - 1\n",
    "    return 4 * (np.sqrt(x * x + y * y) < 1).sum() / n #布尔值\n",
    "\n",
    "\n",
    "%timeit estimate_pi(n=1_000_000)"
   ]
  },
  {
   "cell_type": "markdown",
   "metadata": {
    "editable": true,
    "slideshow": {
     "slide_type": "slide"
    },
    "tags": []
   },
   "source": [
    "### My code is still slow. 🤦‍♂️ What now?\n",
    "\n",
    "* Replace as much of your code with third-party libraries - they are likely better optimised than what you had time for. \n",
    "* Are you using all the cores in your system? Step 1 will likely mean this is true. If you still see only one core being used, you need to parallelise your program.\n",
    "* You could transfer the hot spots, i.e. the few lines or functions in which most of the time is spent, to compiled code ([numba](https://numba.pydata.org) or [Cython](https://cython.org/)).\n",
    "* Fair enough... Keep calm and carry on.\n",
    "\n",
    "<div>\n",
    "<center>\n",
    "    <img src=\"images/keep-calm-and-carry-on.jpg\" width=\"150\" alt=\"keep-calm-and-carry-on\" />\n",
    "</center>\n",
    "</div>"
   ]
  },
  {
   "cell_type": "markdown",
   "metadata": {
    "slideshow": {
     "slide_type": "slide"
    }
   },
   "source": [
    "## Memory management 📦"
   ]
  },
  {
   "cell_type": "markdown",
   "metadata": {
    "slideshow": {
     "slide_type": "slide"
    }
   },
   "source": [
    "## Downcasting: Reducing Memory Footprint\n",
    "\n",
    "- When we work with **large datasets**, memory usage becomes a major performance bottleneck.  \n",
    "- Every number stored in memory has a **data type** (`dtype`) that determines how many bytes it takes to store.  \n",
    "- By default, NumPy and pandas often use **64-bit types** (`float64`, `int64`) - even when smaller ones would be sufficient.\n",
    "\n",
    "### What is *Downcasting*?\n",
    "**Downcasting** means converting a variable from a larger numeric type to a smaller one, for example:\n",
    "\n",
    "- `float64 → float32`\n",
    "- `int64 → int32` or even `int16`\n",
    "\n",
    "This does **not** change the values (except for tiny rounding differences in floats), but it **cuts memory use** — often by 50% or more.\n",
    "\n",
    "### Why It Matters?\n",
    "In large NumPy arrays or Pandas DataFrames:\n",
    "- Smaller dtypes **fit more data into cache**, improving performance.\n",
    "- You can **load larger datasets** into memory without hitting limits.\n",
    "- Operations can become faster due to **less memory transfer** between CPU and RAM."
   ]
  },
  {
   "cell_type": "markdown",
   "metadata": {
    "slideshow": {
     "slide_type": "slide"
    }
   },
   "source": [
    "### 📊 Common Numeric Data Types in NumPy and pandas\n",
    "\n",
    "| Data Type | Bytes per Value | Approximate Range |\n",
    "|------------|----------------:|------------------:|\n",
    "| **bool** | 1 | `True` / `False` |\n",
    "| **int8** | 1 | −128 to 127 |\n",
    "| **uint8** | 1 | 0 to 255 |\n",
    "| **int16** | 2 | −32,768 to 32,767 |\n",
    "| **uint16** | 2 | 0 to 65,535 |\n",
    "| **int32** | 4 | −2.1×10⁹ to 2.1×10⁹ |\n",
    "| **uint32** | 4 | 0 to 4.2×10⁹ |\n",
    "| **int64** | 8 | −9.2×10¹⁸ to 9.2×10¹⁸ |\n",
    "| **uint64** | 8 | 0 to 1.8×10¹⁹ |\n",
    "| **float32** | 4 | ≈ ±3.4×10³⁸, ~7 decimal digits |\n",
    "| **float64** | 8 | ≈ ±1.8×10³⁰⁸, ~15 decimal digits |\n",
    "\n",
    "💡 **Tip:** Smaller dtypes save memory but may reduce precision or range —  \n",
    "always choose the smallest type that safely fits your data."
   ]
  },
  {
   "cell_type": "markdown",
   "metadata": {
    "slideshow": {
     "slide_type": "slide"
    }
   },
   "source": [
    "### Example: Downcasting in pandas\n",
    "\n",
    "Let us create an example data that we will use to demonstrate downcasting. The dataframe contains information about customers who visited our restaurant."
   ]
  },
  {
   "cell_type": "code",
   "execution_count": 41,
   "metadata": {},
   "outputs": [],
   "source": [
    "import pandas as pd\n",
    "import numpy as np\n",
    "\n",
    "n = 10_000  # number of rows\n",
    "\n",
    "(\n",
    "    pd.DataFrame()\n",
    "    .assign(\n",
    "        gender=np.random.choice([\"male\", \"female\", \"other\"], size=n),\n",
    "        age=np.random.randint(18, 105, size=n),\n",
    "        spent=np.round(np.random.uniform(0, 1000, size=n), 2),\n",
    "        return_likelihood=np.random.choice(\n",
    "            [\"very unlikely\", \"unlikely\", \"neutral\", \"likely\", \"very likely\"], size=n\n",
    "        ),\n",
    "        dishes_ordered=np.random.randint(0, 6, size=n),\n",
    "        drinks_ordered=np.random.randint(0, 6, size=n),\n",
    "        complained=np.random.choice([\"yes\", \"no\"], size=n),\n",
    "    )\n",
    "    .to_csv(\"customer_data.csv\", index=False)\n",
    ")"
   ]
  },
  {
   "cell_type": "markdown",
   "metadata": {
    "slideshow": {
     "slide_type": "slide"
    }
   },
   "source": [
    "Let's now load the data and check it's memory footprint."
   ]
  },
  {
   "cell_type": "code",
   "execution_count": 42,
   "metadata": {},
   "outputs": [
    {
     "data": {
      "text/html": [
       "<div>\n",
       "<style scoped>\n",
       "    .dataframe tbody tr th:only-of-type {\n",
       "        vertical-align: middle;\n",
       "    }\n",
       "\n",
       "    .dataframe tbody tr th {\n",
       "        vertical-align: top;\n",
       "    }\n",
       "\n",
       "    .dataframe thead th {\n",
       "        text-align: right;\n",
       "    }\n",
       "</style>\n",
       "<table border=\"1\" class=\"dataframe\">\n",
       "  <thead>\n",
       "    <tr style=\"text-align: right;\">\n",
       "      <th></th>\n",
       "      <th>gender</th>\n",
       "      <th>age</th>\n",
       "      <th>spent</th>\n",
       "      <th>return_likelihood</th>\n",
       "      <th>dishes_ordered</th>\n",
       "      <th>drinks_ordered</th>\n",
       "      <th>complained</th>\n",
       "    </tr>\n",
       "  </thead>\n",
       "  <tbody>\n",
       "    <tr>\n",
       "      <th>9793</th>\n",
       "      <td>other</td>\n",
       "      <td>64</td>\n",
       "      <td>94.66</td>\n",
       "      <td>likely</td>\n",
       "      <td>2</td>\n",
       "      <td>0</td>\n",
       "      <td>yes</td>\n",
       "    </tr>\n",
       "    <tr>\n",
       "      <th>7378</th>\n",
       "      <td>female</td>\n",
       "      <td>74</td>\n",
       "      <td>536.96</td>\n",
       "      <td>unlikely</td>\n",
       "      <td>3</td>\n",
       "      <td>2</td>\n",
       "      <td>yes</td>\n",
       "    </tr>\n",
       "    <tr>\n",
       "      <th>6199</th>\n",
       "      <td>female</td>\n",
       "      <td>82</td>\n",
       "      <td>878.94</td>\n",
       "      <td>very likely</td>\n",
       "      <td>3</td>\n",
       "      <td>4</td>\n",
       "      <td>yes</td>\n",
       "    </tr>\n",
       "    <tr>\n",
       "      <th>1</th>\n",
       "      <td>female</td>\n",
       "      <td>65</td>\n",
       "      <td>987.77</td>\n",
       "      <td>likely</td>\n",
       "      <td>4</td>\n",
       "      <td>1</td>\n",
       "      <td>no</td>\n",
       "    </tr>\n",
       "    <tr>\n",
       "      <th>9912</th>\n",
       "      <td>female</td>\n",
       "      <td>19</td>\n",
       "      <td>849.43</td>\n",
       "      <td>very likely</td>\n",
       "      <td>5</td>\n",
       "      <td>0</td>\n",
       "      <td>yes</td>\n",
       "    </tr>\n",
       "  </tbody>\n",
       "</table>\n",
       "</div>"
      ],
      "text/plain": [
       "      gender  age   spent return_likelihood  dishes_ordered  drinks_ordered  \\\n",
       "9793   other   64   94.66            likely               2               0   \n",
       "7378  female   74  536.96          unlikely               3               2   \n",
       "6199  female   82  878.94       very likely               3               4   \n",
       "1     female   65  987.77            likely               4               1   \n",
       "9912  female   19  849.43       very likely               5               0   \n",
       "\n",
       "     complained  \n",
       "9793        yes  \n",
       "7378        yes  \n",
       "6199        yes  \n",
       "1            no  \n",
       "9912        yes  "
      ]
     },
     "execution_count": 42,
     "metadata": {},
     "output_type": "execute_result"
    }
   ],
   "source": [
    "sh = pd.read_csv(\"customer_data.csv\")\n",
    "\n",
    "sh.sample(5)"
   ]
  },
  {
   "cell_type": "markdown",
   "metadata": {
    "slideshow": {
     "slide_type": "slide"
    }
   },
   "source": [
    "How much memory (RAM) is it using?"
   ]
  },
  {
   "cell_type": "code",
   "execution_count": 43,
   "metadata": {},
   "outputs": [
    {
     "data": {
      "text/plain": [
       "Index                   132\n",
       "gender               539923\n",
       "age                   80000\n",
       "spent                 80000\n",
       "return_likelihood    580614\n",
       "dishes_ordered        80000\n",
       "drinks_ordered        80000\n",
       "complained           514996\n",
       "dtype: int64"
      ]
     },
     "execution_count": 43,
     "metadata": {},
     "output_type": "execute_result"
    }
   ],
   "source": [
    "sh.memory_usage(deep=True)"
   ]
  },
  {
   "cell_type": "code",
   "execution_count": 44,
   "metadata": {},
   "outputs": [
    {
     "name": "stdout",
     "output_type": "stream",
     "text": [
      "Size before we do downcasting magic: 1.96 MB\n"
     ]
    }
   ],
   "source": [
    "size_before = sh.memory_usage(deep=True).sum()  # in bytes\n",
    "print(f\"Size before we do downcasting magic: {size_before / 1_000_000:.2f} MB\")"
   ]
  },
  {
   "cell_type": "markdown",
   "metadata": {
    "slideshow": {
     "slide_type": "slide"
    }
   },
   "source": [
    "Let's check the types of columns:"
   ]
  },
  {
   "cell_type": "code",
   "execution_count": 45,
   "metadata": {},
   "outputs": [
    {
     "data": {
      "text/plain": [
       "gender                object\n",
       "age                    int64\n",
       "spent                float64\n",
       "return_likelihood     object\n",
       "dishes_ordered         int64\n",
       "drinks_ordered         int64\n",
       "complained            object\n",
       "dtype: object"
      ]
     },
     "execution_count": 45,
     "metadata": {},
     "output_type": "execute_result"
    }
   ],
   "source": [
    "sh.dtypes"
   ]
  },
  {
   "cell_type": "markdown",
   "metadata": {
    "slideshow": {
     "slide_type": "slide"
    }
   },
   "source": [
    "We can make some columns categorical. For instance:"
   ]
  },
  {
   "cell_type": "code",
   "execution_count": 46,
   "metadata": {},
   "outputs": [
    {
     "data": {
      "text/plain": [
       "gender\n",
       "male      3377\n",
       "other     3323\n",
       "female    3300\n",
       "Name: count, dtype: int64"
      ]
     },
     "execution_count": 46,
     "metadata": {},
     "output_type": "execute_result"
    }
   ],
   "source": [
    "sh.gender.value_counts()"
   ]
  },
  {
   "cell_type": "code",
   "execution_count": 47,
   "metadata": {},
   "outputs": [],
   "source": [
    "sh = sh.assign(\n",
    "    gender=lambda df_: df_.gender.astype(\"category\"),\n",
    ")"
   ]
  },
  {
   "cell_type": "code",
   "execution_count": 48,
   "metadata": {},
   "outputs": [
    {
     "name": "stdout",
     "output_type": "stream",
     "text": [
      "Size: 1.43 MB compared to 1.96 MB\n"
     ]
    }
   ],
   "source": [
    "print(\n",
    "    f\"Size: {sh.memory_usage(deep=True).sum() / 1_000_000:.2f} MB compared to {size_before / 1_000_000:.2f} MB\"\n",
    ")"
   ]
  },
  {
   "cell_type": "markdown",
   "metadata": {
    "slideshow": {
     "slide_type": "slide"
    }
   },
   "source": [
    "Another columns that can be categorical..."
   ]
  },
  {
   "cell_type": "code",
   "execution_count": 49,
   "metadata": {},
   "outputs": [
    {
     "data": {
      "text/plain": [
       "return_likelihood\n",
       "very unlikely    2092\n",
       "very likely      2001\n",
       "unlikely         1999\n",
       "neutral          1967\n",
       "likely           1941\n",
       "Name: count, dtype: int64"
      ]
     },
     "execution_count": 49,
     "metadata": {},
     "output_type": "execute_result"
    }
   ],
   "source": [
    "sh.return_likelihood.value_counts()"
   ]
  },
  {
   "cell_type": "code",
   "execution_count": 50,
   "metadata": {},
   "outputs": [
    {
     "data": {
      "text/plain": [
       "complained\n",
       "no     5004\n",
       "yes    4996\n",
       "Name: count, dtype: int64"
      ]
     },
     "execution_count": 50,
     "metadata": {},
     "output_type": "execute_result"
    }
   ],
   "source": [
    "sh.complained.value_counts()"
   ]
  },
  {
   "cell_type": "code",
   "execution_count": 51,
   "metadata": {},
   "outputs": [],
   "source": [
    "sh = sh.assign(\n",
    "    return_likelihood=lambda df_: df_.return_likelihood.astype(\"category\"),\n",
    "    complained=lambda df_: df_.complained.astype(\"category\"),\n",
    ")"
   ]
  },
  {
   "cell_type": "code",
   "execution_count": 52,
   "metadata": {},
   "outputs": [
    {
     "name": "stdout",
     "output_type": "stream",
     "text": [
      "Size: 0.35 MB compared to 1.96 MB\n"
     ]
    }
   ],
   "source": [
    "print(\n",
    "    f\"Size: {sh.memory_usage(deep=True).sum() / 1_000_000:.2f} MB compared to {size_before / 1_000_000:.2f} MB\"\n",
    ")"
   ]
  },
  {
   "cell_type": "markdown",
   "metadata": {
    "slideshow": {
     "slide_type": "slide"
    }
   },
   "source": [
    "Let's look at the numerical columns:"
   ]
  },
  {
   "cell_type": "code",
   "execution_count": 53,
   "metadata": {},
   "outputs": [
    {
     "data": {
      "text/plain": [
       "dtype('int64')"
      ]
     },
     "execution_count": 53,
     "metadata": {},
     "output_type": "execute_result"
    }
   ],
   "source": [
    "sh.age.dtype"
   ]
  },
  {
   "cell_type": "code",
   "execution_count": 54,
   "metadata": {},
   "outputs": [
    {
     "data": {
      "text/plain": [
       "np.int64(18)"
      ]
     },
     "execution_count": 54,
     "metadata": {},
     "output_type": "execute_result"
    }
   ],
   "source": [
    "sh.age.min()"
   ]
  },
  {
   "cell_type": "code",
   "execution_count": 55,
   "metadata": {},
   "outputs": [
    {
     "data": {
      "text/plain": [
       "np.int64(104)"
      ]
     },
     "execution_count": 55,
     "metadata": {},
     "output_type": "execute_result"
    }
   ],
   "source": [
    "sh.age.max()"
   ]
  },
  {
   "cell_type": "code",
   "execution_count": 56,
   "metadata": {},
   "outputs": [
    {
     "data": {
      "text/plain": [
       "iinfo(min=-9223372036854775808, max=9223372036854775807, dtype=int64)"
      ]
     },
     "execution_count": 56,
     "metadata": {},
     "output_type": "execute_result"
    }
   ],
   "source": [
    "np.iinfo(np.int64)"
   ]
  },
  {
   "cell_type": "code",
   "execution_count": 57,
   "metadata": {},
   "outputs": [
    {
     "data": {
      "text/plain": [
       "iinfo(min=0, max=255, dtype=uint8)"
      ]
     },
     "execution_count": 57,
     "metadata": {},
     "output_type": "execute_result"
    }
   ],
   "source": [
    "np.iinfo(np.uint8)"
   ]
  },
  {
   "cell_type": "markdown",
   "metadata": {
    "slideshow": {
     "slide_type": "slide"
    }
   },
   "source": [
    "Let's downcast the integers:"
   ]
  },
  {
   "cell_type": "code",
   "execution_count": 58,
   "metadata": {},
   "outputs": [
    {
     "name": "stdout",
     "output_type": "stream",
     "text": [
      "Size: 0.28 MB compared to 1.96 MB\n"
     ]
    }
   ],
   "source": [
    "sh = sh.assign(\n",
    "    age=lambda df_: df_.age.astype(\"uint8\"),\n",
    ")\n",
    "\n",
    "print(\n",
    "    f\"Size: {sh.memory_usage(deep=True).sum() / 1_000_000:.2f} MB compared to {size_before / 1_000_000:.2f} MB\"\n",
    ")"
   ]
  },
  {
   "cell_type": "code",
   "execution_count": 59,
   "metadata": {},
   "outputs": [
    {
     "name": "stdout",
     "output_type": "stream",
     "text": [
      "Size: 0.14 MB compared to 1.96 MB\n"
     ]
    }
   ],
   "source": [
    "sh = sh.astype(\n",
    "    {\n",
    "        \"dishes_ordered\": \"int8\",\n",
    "        \"drinks_ordered\": \"int8\",\n",
    "    }\n",
    ")\n",
    "\n",
    "print(\n",
    "    f\"Size: {sh.memory_usage(deep=True).sum() / 1_000_000:.2f} MB compared to {size_before / 1_000_000:.2f} MB\"\n",
    ")"
   ]
  },
  {
   "cell_type": "markdown",
   "metadata": {
    "slideshow": {
     "slide_type": "slide"
    }
   },
   "source": [
    "What about floats?"
   ]
  },
  {
   "cell_type": "code",
   "execution_count": 67,
   "metadata": {},
   "outputs": [
    {
     "data": {
      "text/plain": [
       "dtype('float64')"
      ]
     },
     "execution_count": 67,
     "metadata": {},
     "output_type": "execute_result"
    }
   ],
   "source": [
    "sh.spent.dtype"
   ]
  },
  {
   "cell_type": "code",
   "execution_count": 68,
   "metadata": {},
   "outputs": [
    {
     "data": {
      "text/plain": [
       "np.float64(0.03)"
      ]
     },
     "execution_count": 68,
     "metadata": {},
     "output_type": "execute_result"
    }
   ],
   "source": [
    "sh.spent.min()"
   ]
  },
  {
   "cell_type": "code",
   "execution_count": 69,
   "metadata": {},
   "outputs": [
    {
     "data": {
      "text/plain": [
       "np.float64(999.94)"
      ]
     },
     "execution_count": 69,
     "metadata": {},
     "output_type": "execute_result"
    }
   ],
   "source": [
    "sh.spent.max()"
   ]
  },
  {
   "cell_type": "code",
   "execution_count": 70,
   "metadata": {},
   "outputs": [
    {
     "name": "stdout",
     "output_type": "stream",
     "text": [
      "Size: 0.10 MB compared to 1.96 MB\n"
     ]
    }
   ],
   "source": [
    "sh = sh.astype(\n",
    "    {\n",
    "        \"spent\": \"float32\",\n",
    "    }\n",
    ")\n",
    "\n",
    "print(\n",
    "    f\"Size: {sh.memory_usage(deep=True).sum() / 1_000_000:.2f} MB compared to {size_before / 1_000_000:.2f} MB\"\n",
    ")"
   ]
  },
  {
   "cell_type": "markdown",
   "metadata": {
    "slideshow": {
     "slide_type": "slide"
    }
   },
   "source": [
    "Final result..."
   ]
  },
  {
   "cell_type": "code",
   "execution_count": 71,
   "metadata": {},
   "outputs": [
    {
     "name": "stdout",
     "output_type": "stream",
     "text": [
      "We reduced the size of the DataFrame from 1.96 MB to 0.10 MB\n"
     ]
    }
   ],
   "source": [
    "print(\n",
    "    f\"We reduced the size of the DataFrame from {size_before / 1_000_000:.2f} MB to {sh.memory_usage(deep=True).sum() / 1_000_000:.2f} MB\"\n",
    ")"
   ]
  },
  {
   "cell_type": "markdown",
   "metadata": {
    "slideshow": {
     "slide_type": "slide"
    }
   },
   "source": [
    "### Example: Downcasting in NumPy\n",
    "\n",
    "We can do the same with numpy:"
   ]
  },
  {
   "cell_type": "code",
   "execution_count": 72,
   "metadata": {},
   "outputs": [
    {
     "data": {
      "text/plain": [
       "8000000"
      ]
     },
     "execution_count": 72,
     "metadata": {},
     "output_type": "execute_result"
    }
   ],
   "source": [
    "before = np.random.randint(0, 100, size=(1000, 1000))\n",
    "before.nbytes"
   ]
  },
  {
   "cell_type": "code",
   "execution_count": 73,
   "metadata": {},
   "outputs": [
    {
     "data": {
      "text/plain": [
       "dtype('int64')"
      ]
     },
     "execution_count": 73,
     "metadata": {},
     "output_type": "execute_result"
    }
   ],
   "source": [
    "before.dtype"
   ]
  },
  {
   "cell_type": "code",
   "execution_count": 74,
   "metadata": {},
   "outputs": [
    {
     "data": {
      "text/plain": [
       "1000000"
      ]
     },
     "execution_count": 74,
     "metadata": {},
     "output_type": "execute_result"
    }
   ],
   "source": [
    "after = np.random.randint(0, 100, size=(1000, 1000), dtype=np.int8)\n",
    "after.nbytes"
   ]
  },
  {
   "cell_type": "markdown",
   "metadata": {
    "slideshow": {
     "slide_type": "slide"
    }
   },
   "source": [
    "## Generators and generator expressions 🧰"
   ]
  },
  {
   "cell_type": "markdown",
   "metadata": {
    "slideshow": {
     "slide_type": "slide"
    }
   },
   "source": [
    "### List comprehensions\n",
    "\n",
    "- Based on some input data, we often **create a new collection/container** (e.g. `list`, `tuple`, `np.ndarray`).\n",
    "\n",
    "#### Example\n",
    "\n",
    "Let us say we want to double all elements in a list:"
   ]
  },
  {
   "cell_type": "code",
   "execution_count": null,
   "metadata": {},
   "outputs": [],
   "source": [
    "numbers = list(range(10))  # list with 10 elements\n",
    "\n",
    "doubled = []\n",
    "for i in numbers:\n",
    "    doubled.append(2 * i)\n",
    "\n",
    "doubled"
   ]
  },
  {
   "cell_type": "markdown",
   "metadata": {
    "slideshow": {
     "slide_type": "slide"
    }
   },
   "source": [
    "Since this is a very common code pattern, Python offers special syntax - **list comprehensions**:"
   ]
  },
  {
   "cell_type": "code",
   "execution_count": null,
   "metadata": {},
   "outputs": [],
   "source": [
    "doubled = [2 * i for i in numbers]\n",
    "doubled"
   ]
  },
  {
   "cell_type": "markdown",
   "metadata": {
    "slideshow": {
     "slide_type": "slide"
    }
   },
   "source": [
    "We can complicate this example even further - we want to **double only even elements**."
   ]
  },
  {
   "cell_type": "code",
   "execution_count": null,
   "metadata": {},
   "outputs": [],
   "source": [
    "doubled_even = []\n",
    "for i in numbers:\n",
    "    if i % 2 == 0:\n",
    "        doubled_even.append(2 * i)\n",
    "\n",
    "doubled_even"
   ]
  },
  {
   "cell_type": "markdown",
   "metadata": {
    "slideshow": {
     "slide_type": "slide"
    }
   },
   "source": [
    "Using list comprehensions:"
   ]
  },
  {
   "cell_type": "code",
   "execution_count": null,
   "metadata": {},
   "outputs": [],
   "source": [
    "doubled_even = [2 * i for i in numbers if i % 2 == 0]\n",
    "doubled_even"
   ]
  },
  {
   "cell_type": "markdown",
   "metadata": {
    "slideshow": {
     "slide_type": "slide"
    }
   },
   "source": [
    "### Is there any difference in performance?"
   ]
  },
  {
   "cell_type": "code",
   "execution_count": null,
   "metadata": {},
   "outputs": [],
   "source": [
    "%%timeit\n",
    "numbers = list(range(1_000_000))\n",
    "\n",
    "doubled = []\n",
    "for i in numbers:\n",
    "    doubled.append(2 * i)"
   ]
  },
  {
   "cell_type": "code",
   "execution_count": null,
   "metadata": {},
   "outputs": [],
   "source": [
    "%%timeit\n",
    "numbers = list(range(1_000_000))\n",
    "\n",
    "doubled = [2*i for i in numbers]"
   ]
  },
  {
   "cell_type": "markdown",
   "metadata": {
    "slideshow": {
     "slide_type": "slide"
    }
   },
   "source": [
    "### Generator expressions\n",
    "- List comprehensions generate new lists and **store them in memory**.\n",
    "- Often, we need a collection (e.g. a list) only to **iterate over it**.\n",
    "- In that case, we use **generator expressions**."
   ]
  },
  {
   "cell_type": "code",
   "execution_count": null,
   "metadata": {},
   "outputs": [],
   "source": [
    "numbers = list(range(3))\n",
    "\n",
    "doubled_list = [2 * i for i in numbers]  # list comprehension\n",
    "doubled_ge = (2 * i for i in numbers)  # generator expression"
   ]
  },
  {
   "cell_type": "code",
   "execution_count": null,
   "metadata": {},
   "outputs": [],
   "source": [
    "doubled_list"
   ]
  },
  {
   "cell_type": "code",
   "execution_count": null,
   "metadata": {},
   "outputs": [],
   "source": [
    "doubled_ge"
   ]
  },
  {
   "cell_type": "markdown",
   "metadata": {
    "slideshow": {
     "slide_type": "slide"
    }
   },
   "source": [
    "### What can('t) we do with generators?"
   ]
  },
  {
   "cell_type": "code",
   "execution_count": null,
   "metadata": {},
   "outputs": [],
   "source": [
    "len(doubled_ge)  # we cannot get the length of a generator"
   ]
  },
  {
   "cell_type": "code",
   "execution_count": null,
   "metadata": {},
   "outputs": [],
   "source": [
    "doubled_ge[1]  # we cannot index generators"
   ]
  },
  {
   "cell_type": "markdown",
   "metadata": {},
   "source": [
    "- If generator expressions have **less functionalities than lists**, why do we need them?\n",
    "- We **have not computed anything yet** - we only **defined a \"recipe\"** how to compute individual elements.\n",
    "- On generators, we can use built-in `next` function (**until generator is consumed**) and iterate over them."
   ]
  },
  {
   "cell_type": "code",
   "execution_count": null,
   "metadata": {},
   "outputs": [],
   "source": [
    "next(doubled_ge)"
   ]
  },
  {
   "cell_type": "code",
   "execution_count": null,
   "metadata": {},
   "outputs": [],
   "source": [
    "next(doubled_ge)"
   ]
  },
  {
   "cell_type": "code",
   "execution_count": null,
   "metadata": {},
   "outputs": [],
   "source": [
    "next(doubled_ge)"
   ]
  },
  {
   "cell_type": "code",
   "execution_count": null,
   "metadata": {},
   "outputs": [],
   "source": [
    "next(doubled_ge)  # after the generator is consumed, StopIteration exception is raised"
   ]
  },
  {
   "cell_type": "markdown",
   "metadata": {
    "slideshow": {
     "slide_type": "slide"
    }
   },
   "source": [
    "Most often, we use generators in loops:"
   ]
  },
  {
   "cell_type": "code",
   "execution_count": null,
   "metadata": {},
   "outputs": [],
   "source": [
    "for i in doubled_ge:\n",
    "    print(i)"
   ]
  },
  {
   "cell_type": "markdown",
   "metadata": {},
   "source": [
    "We get no output because the generator is consumed/exhausted."
   ]
  },
  {
   "cell_type": "code",
   "execution_count": null,
   "metadata": {},
   "outputs": [],
   "source": [
    "doubled_ge = (2 * i for i in numbers)\n",
    "for i in doubled_ge:\n",
    "    print(i)"
   ]
  },
  {
   "cell_type": "markdown",
   "metadata": {
    "slideshow": {
     "slide_type": "slide"
    }
   },
   "source": [
    "### What is the size difference?"
   ]
  },
  {
   "cell_type": "code",
   "execution_count": null,
   "metadata": {},
   "outputs": [],
   "source": [
    "doubled_list = [2 * i for i in range(1_000_000)]\n",
    "doubled_ge = (2 * i for i in range(1_000_000))"
   ]
  },
  {
   "cell_type": "code",
   "execution_count": null,
   "metadata": {},
   "outputs": [],
   "source": [
    "import sys\n",
    "\n",
    "sys.getsizeof(doubled_list)"
   ]
  },
  {
   "cell_type": "code",
   "execution_count": null,
   "metadata": {},
   "outputs": [],
   "source": [
    "sys.getsizeof(doubled_ge)"
   ]
  },
  {
   "cell_type": "markdown",
   "metadata": {
    "slideshow": {
     "slide_type": "slide"
    }
   },
   "source": [
    "### Generators\n",
    "\n",
    "- **Do not contain or store values in memory**.\n",
    "- **Generate values on the fly** as we loop over them.\n",
    "- They are more **memory-efficient**.\n",
    "- Generators are **lazy single-use iterables**."
   ]
  },
  {
   "cell_type": "markdown",
   "metadata": {
    "slideshow": {
     "slide_type": "slide"
    }
   },
   "source": [
    "### What if I need something more complicated?\n",
    "\n",
    "Let us say we want to iterate over a list of numbers in reversed order. We define generators in the same way as function, but instead of `return`, we use `yield`."
   ]
  },
  {
   "cell_type": "code",
   "execution_count": null,
   "metadata": {},
   "outputs": [],
   "source": [
    "def reverse_list(x):\n",
    "    for i in range(len(x) - 1, -1, -1):\n",
    "        yield x[i]\n",
    "\n",
    "\n",
    "x = [1, 2, 3, 4]\n",
    "list(reverse_list(x))"
   ]
  },
  {
   "cell_type": "markdown",
   "metadata": {
    "editable": true,
    "slideshow": {
     "slide_type": "slide"
    },
    "tags": []
   },
   "source": [
    "### Feedback form\n",
    "\n",
    "I’d love to hear your thoughts on today’s lecture — your feedback helps me improve future sessions!\n",
    "\n",
    "https://forms.office.com/e/BiekMgPTMm"
   ]
  }
 ],
 "metadata": {
  "celltoolbar": "Slideshow",
  "kernelspec": {
   "display_name": "Python 3 (ipykernel)",
   "language": "python",
   "name": "python3"
  },
  "language_info": {
   "codemirror_mode": {
    "name": "ipython",
    "version": 3
   },
   "file_extension": ".py",
   "mimetype": "text/x-python",
   "name": "python",
   "nbconvert_exporter": "python",
   "pygments_lexer": "ipython3",
   "version": "3.13.5"
  }
 },
 "nbformat": 4,
 "nbformat_minor": 4
}
